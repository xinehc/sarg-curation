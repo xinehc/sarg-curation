{
 "cells": [
  {
   "cell_type": "code",
   "execution_count": 1,
   "id": "48f2b38a-ca9f-4a37-80b7-2cd9991a415c",
   "metadata": {},
   "outputs": [
    {
     "name": "stdout",
     "output_type": "stream",
     "text": [
      "done: 1000\n",
      "done: 2000\n",
      "done: 3000\n",
      "done: 4000\n",
      "done: 5000\n",
      "done: 6000\n",
      "done: 7000\n"
     ]
    }
   ],
   "source": [
    "from Bio import SeqIO\n",
    "from collections import defaultdict\n",
    "import pandas as pd\n",
    "import re\n",
    "\n",
    "aset = set()\n",
    "with open('misc/init.fa') as handle:\n",
    "    for record in SeqIO.parse(handle, 'fasta'):\n",
    "        aset.add(record.seq.upper())\n",
    "\n",
    "records = []\n",
    "with open('tmp/env_nr.fa') as handle:\n",
    "    for record in SeqIO.parse(handle, 'fasta'):\n",
    "        if record.seq in aset:\n",
    "            records.append(record)\n",
    "\n",
    "with open('tmp/nr.fa') as handle:\n",
    "    for record in SeqIO.parse(handle, 'fasta'):\n",
    "        if record.seq in aset:\n",
    "            if len(records) % 1000 == 0 and len(records)!=0:\n",
    "                print('done:', len(records))\n",
    "            records.append(record)\n",
    "\n",
    "with open('tmp/sarg2nr.fa', 'w') as output_handle:\n",
    "    SeqIO.write(records, output_handle, 'fasta')"
   ]
  },
  {
   "cell_type": "code",
   "execution_count": 2,
   "id": "0b575624-83e2-4b70-b0a5-9473a68e9353",
   "metadata": {},
   "outputs": [],
   "source": [
    "seq2ref = dict()\n",
    "with open('reference/sequence.fasta') as f:\n",
    "    for record in SeqIO.parse(f, 'fasta'):\n",
    "        seq2ref[record.seq] = record.id\n",
    "\n",
    "seq2desc = dict()\n",
    "with open('tmp/sarg2nr.fa') as handle:\n",
    "    for record in SeqIO.parse(handle, 'fasta'):\n",
    "        seq2desc[record.seq] = record.description.split(' >')[0]\n",
    "\n",
    "records = []\n",
    "lines = []\n",
    "with open('misc/init.fa') as handle:\n",
    "    for record in SeqIO.parse(handle, 'fasta'):\n",
    "        desc = seq2desc.get(record.seq)\n",
    "        line = [record.id, seq2ref.get(record.seq), desc.split(' ', 1)[-1].split(' [')[0].split('MULTISPECIES: ')[-1]]\n",
    "\n",
    "        if not desc:\n",
    "            print('unfound:', record.id)\n",
    "            continue\n",
    "\n",
    "        record.id = '|'.join(record.id.split('|')[:3] + [desc.split(' ', 1)[0]])\n",
    "        record.description = desc.split(' ', 1)[-1]\n",
    "        records.append(record)\n",
    "\n",
    "        lines.append(line + [record.id])\n",
    "\n",
    "with open('sarg_ref.fa', 'w') as output_handle:\n",
    "    SeqIO.write(records, output_handle, 'fasta')\n",
    "\n",
    "summary = pd.DataFrame(lines, columns = ['id', 'ref', 'desc', 'sarg'])\n",
    "summary['type'] = summary['id'].str.split('|').str.get(1)\n",
    "summary['subtype'] = summary['id'].str.split('|').str.get(2)\n",
    "summary['accession'] = summary['id'].str.split('|').str.get(3)\n",
    "\n",
    "cols = ['type', 'subtype', 'ref', 'sarg', 'desc']\n",
    "summary[cols].sort_values(cols).to_csv('misc/summary.tsv', index=False, sep='\\t')"
   ]
  }
 ],
 "metadata": {
  "kernelspec": {
   "display_name": "Python 3 (ipykernel)",
   "language": "python",
   "name": "python3"
  },
  "language_info": {
   "codemirror_mode": {
    "name": "ipython",
    "version": 3
   },
   "file_extension": ".py",
   "mimetype": "text/x-python",
   "name": "python",
   "nbconvert_exporter": "python",
   "pygments_lexer": "ipython3",
   "version": "3.12.3"
  }
 },
 "nbformat": 4,
 "nbformat_minor": 5
}
