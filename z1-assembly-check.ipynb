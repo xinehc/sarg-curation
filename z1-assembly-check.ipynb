{
 "cells": [
  {
   "cell_type": "code",
   "execution_count": 1,
   "id": "442f5578-c395-421f-a2d2-f7a380456978",
   "metadata": {},
   "outputs": [],
   "source": [
    "import re\n",
    "import pandas as pd\n",
    "import glob\n",
    "\n",
    "from Bio import SeqIO\n",
    "from collections import defaultdict"
   ]
  },
  {
   "cell_type": "code",
   "execution_count": 2,
   "id": "bcdfdf49-06ae-484e-bce4-cdf1dda0f363",
   "metadata": {},
   "outputs": [],
   "source": [
    "species = 'Bacillus subtilis subsp. subtilis str. 168'\n",
    "cnt = defaultdict(lambda: 0)\n",
    "cpx = {}\n",
    "cre = {}\n",
    "for file in glob.glob(f'assembly/{species}/*/*.faa'):\n",
    "    with open(file) as handle:\n",
    "        for record in SeqIO.parse(handle, 'fasta'):\n",
    "            if 'WP_' in record.id:\n",
    "                cnt[record.seq] += 1\n",
    "                cpx[record.seq] = record.description\n",
    "                cre[record.id] = record"
   ]
  },
  {
   "cell_type": "code",
   "execution_count": 3,
   "id": "ecf6ca88-3818-4872-9b21-001d642dc785",
   "metadata": {},
   "outputs": [
    {
     "name": "stdout",
     "output_type": "stream",
     "text": [
      "\"WP_009969035.1\": \"azlC\", // WP_009969035.1 MULTISPECIES: azaleucine resistance protein AzlC [Bacillales] | cnt: 11\n",
      "\"WP_003227840.1\": \"chrA\", // WP_003227840.1 MULTISPECIES: chromate resistance efflux protein ChrA [Bacillales] | cnt: 12\n",
      "\"WP_003227843.1\": \"chrB\", // WP_003227843.1 MULTISPECIES: chromate efflux transporter subunit ChrB [Bacillales] | cnt: 12\n",
      "\"WP_003245812.1\": \"crcB\", // WP_003245812.1 MULTISPECIES: fluoride efflux transporter CrcB [Bacillales] | cnt: 12\n",
      "\"WP_010886645.1\": \"peptide\", // WP_010886645.1 MULTISPECIES: tetracycline resistance efflux system leader peptide [Bacillus] | cnt: 5\n",
      "\"WP_003226779.1\": \"protein\", // WP_003226779.1 MULTISPECIES: toxic anion resistance protein [Bacillales] | cnt: 12\n",
      "\"WP_003242663.1\": \"srfP\", // WP_003242663.1 MULTISPECIES: surfactin resistance protein SrfP [Bacillales] | cnt: 11\n",
      "\"WP_003233430.1\": \"subunit\", // WP_003233430.1 MULTISPECIES: HlyD family efflux transporter periplasmic adaptor subunit [Bacillales] | cnt: 12\n",
      "\"WP_078081400.1\": \"tet(L)\", // WP_078081400.1 tetracycline efflux MFS transporter Tet(L) [Bacillus subtilis] | cnt: 1\n",
      "\"WP_003228222.1\": \"transporter\", // WP_003228222.1 MULTISPECIES: QacE family quaternary ammonium compound efflux SMR transporter [Bacillales] | cnt: 12\n"
     ]
    }
   ],
   "source": [
    "dups = set()\n",
    "with open(f'tmp/subject.fa') as handle:\n",
    "    for record in SeqIO.parse(handle, 'fasta'):\n",
    "        dups.add(record.seq)\n",
    "\n",
    "lines = []\n",
    "for i,j in cpx.items():\n",
    "    if re.search('multidrug|resistance|efflux|outer membrane subunit', j, re.IGNORECASE):\n",
    "        if not re.search('repressor|regulator|accessory|activator|sensor|arsenite|arsenic|iron|copper|heat|nickel|zinc|heavy metal', j):\n",
    "            if i not in dups:\n",
    "                dups.add(i)\n",
    "\n",
    "                gene = j.split(' [')[0].split(' ')[-1]\n",
    "                gene = gene[0].lower() + gene[1:]\n",
    "\n",
    "                accession = j.split(' ')[0]\n",
    "                description = j\n",
    "                count = cnt.get(i)\n",
    "                lines.append([gene, accession, description, count])\n",
    "\n",
    "lines = pd.DataFrame(lines).sort_values([0, 3, 1], ascending=[True, False, True]).groupby(0, as_index=False).first()\n",
    "for _, line in lines.iterrows():\n",
    "    print(f'\"{line[1]}\": \"{line[0]}\", // {line[2]} | cnt: {line[3]}')\n",
    "\n",
    "with open('tmp/protein.fa', 'w') as output_handle:\n",
    "    SeqIO.write([cre.get(x) for x in lines[1].unique()], output_handle, 'fasta-2line')"
   ]
  },
  {
   "cell_type": "code",
   "execution_count": null,
   "id": "b22d34a9-9561-4cca-b477-2719b586f62e",
   "metadata": {},
   "outputs": [],
   "source": []
  },
  {
   "cell_type": "code",
   "execution_count": null,
   "id": "524ced5d-c7fe-4115-a3fd-a7d37e504c28",
   "metadata": {},
   "outputs": [],
   "source": []
  },
  {
   "cell_type": "code",
   "execution_count": null,
   "id": "4b851cb2-ab09-4462-9e98-ca68b4b4fbdb",
   "metadata": {},
   "outputs": [],
   "source": []
  },
  {
   "cell_type": "code",
   "execution_count": null,
   "id": "661a6ce4-402d-4501-a4f5-5828627ce1c8",
   "metadata": {},
   "outputs": [],
   "source": []
  },
  {
   "cell_type": "code",
   "execution_count": null,
   "id": "e0c06f86-b1e2-4c04-980b-5f254f40bfb2",
   "metadata": {},
   "outputs": [],
   "source": []
  },
  {
   "cell_type": "code",
   "execution_count": null,
   "id": "ff4f2624-1ba1-47e7-b482-232b5cccde47",
   "metadata": {},
   "outputs": [],
   "source": []
  },
  {
   "cell_type": "code",
   "execution_count": 4,
   "id": "44e27715-dfe6-4194-8391-858e1935a18d",
   "metadata": {},
   "outputs": [],
   "source": [
    "%%bash\n",
    "diamond blastp -q blastrule/proteins.fasta -d tmp/subject.fa -k 1  --id 90 --outfmt 6 qseqid > tmp/blastrule.txt"
   ]
  },
  {
   "cell_type": "code",
   "execution_count": 5,
   "id": "d052ea28-b129-43ed-99f3-8f2429691288",
   "metadata": {},
   "outputs": [
    {
     "name": "stdout",
     "output_type": "stream",
     "text": [
      "remaining: 3\n",
      "\"gi|489509033|ref|WP_003413897.1|\": \"permease\", // MULTISPECIES: fluoroquinolones efflux ABC transporter permease [Mycobacterium tuberculosis complex]\n",
      "\"gi|489995739|ref|WP_003898775.1|\": \"permease\", // MULTISPECIES: multidrug efflux ABC transporter permease [Mycobacterium tuberculosis complex]\n",
      "\"gi|490003633|ref|WP_003906541.1|\": \"protein\", // multidrug efflux ABC transporter ATP-binding protein [Mycobacterium tuberculosis]\n"
     ]
    }
   ],
   "source": [
    "cpx = dict()\n",
    "with open(f'blastrule/proteins.fasta') as handle:\n",
    "    for record in SeqIO.parse(handle, 'fasta'):\n",
    "        cpx[record.id] = record.description\n",
    "\n",
    "dups = set(pd.read_table('tmp/blastrule.txt', header=None)[0])\n",
    "lines = []\n",
    "for i,j in cpx.items():\n",
    "    if re.search('multidrug|resistance|efflux|outer membrane (subunit|channel)| tolC', j, re.IGNORECASE):\n",
    "        if not re.search('repressor|regulator|accessory|activator|sensor|inhibitory', j):\n",
    "            if not re.search('hydroperoxide|pyoverdine|peptide|glutathione|SAV1866|HP1184|Rv0191|toxic|auxin|toxin|invertase|lysostaphin|nucleoside|acid|sugar|complement|6-N-hydroxylaminopurine|manganese|heat|endopeptidase|arsenite|arsenic|iron|serum|cadmium|chromate|nickel|copper|Cu\\(\\+\\)|Ni\\(II\\)|metal|tellurite|tellurium|zinc|chlorine|cation|stress|radiation|colicin|microcin', j):\n",
    "                if i not in dups:\n",
    "                    dups.add(i)\n",
    "    \n",
    "                    gene = j.split(' [')[0].split(' ')[-1]\n",
    "                    gene = gene[0].lower() + gene[1:]\n",
    "\n",
    "                    accession = j.split(' ')[0]\n",
    "                    description = j.split(' ', 1)[-1]\n",
    "\n",
    "                    if accession not in {\n",
    "                        'gi|490073174|ref|WP_003975349.1|', # vanS\n",
    "                        'gi|497574828|ref|WP_009889012.1|', # vanZ\n",
    "                        'gi|489108589|ref|WP_003018447.1|', # silC\n",
    "                        'gi|446040665|ref|WP_000118520.1|', # sugE\n",
    "                        'gi|497384507|ref|WP_009698720.1|', # vmrA\n",
    "                        'gi|1129486601|ref|WP_075443138.1|', # cmeD\n",
    "                    }:\n",
    "                        lines.append([gene, accession, description])\n",
    "\n",
    "lines = pd.DataFrame(lines).sort_values([0, 1], ascending=[True, True])\n",
    "print('remaining:', len(lines))\n",
    "for _, line in lines.iterrows():\n",
    "    print(f'\"{line[1]}\": \"{line[0]}\", // {line[2]}')"
   ]
  }
 ],
 "metadata": {
  "kernelspec": {
   "display_name": "Python 3 (ipykernel)",
   "language": "python",
   "name": "python3"
  },
  "language_info": {
   "codemirror_mode": {
    "name": "ipython",
    "version": 3
   },
   "file_extension": ".py",
   "mimetype": "text/x-python",
   "name": "python",
   "nbconvert_exporter": "python",
   "pygments_lexer": "ipython3",
   "version": "3.11.0"
  }
 },
 "nbformat": 4,
 "nbformat_minor": 5
}
