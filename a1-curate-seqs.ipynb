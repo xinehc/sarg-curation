{
 "cells": [
  {
   "cell_type": "code",
   "execution_count": 1,
   "id": "280f8b3d-5abe-45f1-bc61-86bd7c738efe",
   "metadata": {},
   "outputs": [],
   "source": [
    "import json5\n",
    "import glob\n",
    "import pandas as pd\n",
    "import regex as re\n",
    "from Bio import SeqIO\n",
    "from collections import defaultdict\n",
    "\n",
    "added = {}\n",
    "discarded = set()\n",
    "replaced_seqs = dict()\n",
    "replaced_genes = dict()\n",
    "with open('sarg.json', 'r') as f:\n",
    "    for i,j in json5.load(f).items():\n",
    "        if i != 'discarded':\n",
    "            for k,l in j.items():\n",
    "                if k == 'discarded':\n",
    "                    discarded.update(l)\n",
    "                if k == 'changed':\n",
    "                    replaced_seqs.update({z:x for x,y in l.items() for z in y if isinstance(y, list)})\n",
    "                    replaced_genes.update({x:y for x,y in l.items() if not isinstance(y, list)})\n",
    "                if k == 'added':\n",
    "                    for m,n in l.items():\n",
    "                        added[m] = 'REF|' + i + '|' + n + '|' + m\n",
    "        else:\n",
    "            discarded.update(j)\n",
    "\n",
    "records = []\n",
    "dups = set()\n",
    "with open('reference/sequence.fasta') as f:\n",
    "    for record in SeqIO.parse(f, 'fasta'):\n",
    "        if record.id not in discarded:\n",
    "            if record.seq not in dups:\n",
    "                dups.add(record.seq)\n",
    "                records.append(record)"
   ]
  },
  {
   "cell_type": "code",
   "execution_count": 2,
   "id": "e1810e9e-4a6f-4f02-a9ed-008754c6af21",
   "metadata": {},
   "outputs": [
    {
     "name": "stderr",
     "output_type": "stream",
     "text": [
      "[INFO]\u001b[0m read sequences ...\n",
      "[INFO]\u001b[0m 488 sequences loaded\n",
      "[INFO]\u001b[0m sorting ...\n",
      "[INFO]\u001b[0m output ...\n"
     ]
    }
   ],
   "source": [
    "%%bash\n",
    "seqkit sort -s reference/reference.fasta -o reference/reference.fasta"
   ]
  },
  {
   "cell_type": "code",
   "execution_count": 3,
   "id": "8135ec26-4b65-4dfc-bfce-06f63b122be5",
   "metadata": {},
   "outputs": [
    {
     "name": "stdout",
     "output_type": "stream",
     "text": [
      "unused: REF|NA|Rv1877|sp|P9WG85|Y1877_MYCTU\n",
      "unused: REF|NA|vraF|WP_001637630.1\n",
      "unused: REF|NA|nicT|sp|I6YEJ7|NICT_MYCTU\n",
      "unused: REF|NA|Krm|sp|Q2J7L5|KRM_FRACC\n",
      "unused: REF|NA|protein|WP_003722374.1\n",
      "unused: REF|NA|transporter|WP_000473297.1\n",
      "unused: REF|NA|mmpS5|sp|P9WJS7|MMPS5_MYCTU\n",
      "unused: REF|NA|SAV1866|sp|Q99T13|Y1866_STAAM\n",
      "unused: REF|NA|fmrO|sp|Q08325|FMRO_MICOL\n",
      "unused: REF|NA|transporter|WP_000905722.1\n",
      "unused: REF|NA|Rv1273c|sp|P9WQJ1|Y1273_MYCTU\n",
      "unused: REF|NA|kamC|sp|P25919|KAMC_SACHI\n",
      "unused: REF|NA|Rv1410c|sp|P9WJY3|MFS55_MYCTU\n",
      "unused: REF|NA|Rv2686c|sp|P9WJB3|FLQE2_MYCTU\n",
      "unused: REF|NA|Rv0194|sp|O53645|MDREP_MYCTU\n",
      "unused: REF|NA|Rv1218c|sp|O86311|MEATP_MYCTU\n",
      "unused: REF|NA|vraG|WP_002457535.1\n",
      "unused: REF|NA|vraF|WP_020363729.1\n",
      "unused: REF|NA|Rv1217c|sp|O05318|MEPRM_MYCTU\n",
      "unused: REF|NA|Rv2688c|sp|P9WQL7|FLQE1_MYCTU\n",
      "unused: REF|NA|Rv0191|sp|P9WJX7|CHLEP_MYCTU\n",
      "unused: REF|NA|Rv1634|sp|P9WJX3|Y1634_MYCTU\n",
      "unused: REF|NA|vraG|WP_000143623.1\n",
      "unused: REF|NA|transporter|WP_003119853.1\n",
      "unused: REF|NA|permease|WP_010989900.1\n",
      "unused: REF|NA|PA4990|sp|Q9HUH5|MTDTR_PSEAE\n",
      "unused: REF|NA|Rv2687c|sp|P9WJB1|FLQE3_MYCTU\n",
      "unused: REF|NA|VP1155|sp|Q87QJ4|PACE_VIBPA\n",
      "unused: REF|NA|grm|sp|P24618|GRM_MICEC\n"
     ]
    }
   ],
   "source": [
    "id2refseq = dict()\n",
    "with open('reference/reference.fasta') as handle:\n",
    "    for record in SeqIO.parse(handle, 'fasta'):\n",
    "        if record.seq not in dups:\n",
    "            dups.add(record.seq)\n",
    "            \n",
    "            if record.id in added:\n",
    "                record.id = added.get(record.id)\n",
    "                records.append(record)\n",
    "            else:\n",
    "                if 'GN=' in record.description:\n",
    "                    gene = record.description.split(' GN=')[-1].split(' ')[0]\n",
    "                else:\n",
    "                    gene = record.description.split(' [')[0].split(' (')[0].split(' ')[-1]\n",
    "                    gene = gene[0].lower() + gene[1:]\n",
    "    \n",
    "                record.id = 'REF|' + added.get(gene, 'NA') + '|' + gene + '|' + record.id\n",
    "                print(f'unused: {record.id}')"
   ]
  },
  {
   "cell_type": "code",
   "execution_count": 4,
   "id": "eeb82133-7c13-48fd-8d16-550d781425b1",
   "metadata": {},
   "outputs": [],
   "source": [
    "records_renamed = []\n",
    "for record in records:\n",
    "    if 'REF|' in record.id:\n",
    "        record.id = '@'.join(record.id.split('|')[1:3])\n",
    "    elif 'NCBI|' in record.id or 'CARD|' in record.id:\n",
    "        record.description = record.description.split(' ', 1)[-1]\n",
    "        if record.id in replaced_seqs:\n",
    "            record.id = replaced_seqs.get(record.id)\n",
    "        else:\n",
    "            if '|stress:biocide|' in record.name:\n",
    "                record.id = 'biocide@' + record.id.split('|')[3]\n",
    "            else:\n",
    "                record.id = '@'.join(record.id.split('|')[2:4])\n",
    "    else:\n",
    "        continue\n",
    "\n",
    "    gene, id = record.id.split('@')[-1], record.id\n",
    "    for k, v in replaced_genes.items():\n",
    "        id = re.sub(k, v, id)\n",
    "\n",
    "    if \"sp|\" in record.name:\n",
    "        name = record.name.split('@')[-1].split('|')[-2]\n",
    "    else:\n",
    "        name = record.name.split('@')[-1].split('|')[-1]\n",
    "\n",
    "    record.id = f\"SARG|{id.replace('@', '|')}|{name}\"\n",
    "    record.description = record.description.split(' >')[0]    \n",
    "    if id.split('@')[-1] not in discarded and gene not in discarded:\n",
    "        records_renamed.append(record)"
   ]
  },
  {
   "cell_type": "code",
   "execution_count": 5,
   "id": "6e9fe45d-c2a2-4f35-bc05-d1f0632a850b",
   "metadata": {},
   "outputs": [],
   "source": [
    "with open('misc/init.fasta', 'w') as output_handle:\n",
    "    SeqIO.write(records_renamed, output_handle, 'fasta')"
   ]
  },
  {
   "cell_type": "code",
   "execution_count": 6,
   "id": "49341873-13d1-4a49-b56d-3961303e1e6d",
   "metadata": {},
   "outputs": [
    {
     "name": "stderr",
     "output_type": "stream",
     "text": [
      "[INFO]\u001b[0m read sequences ...\n",
      "[INFO]\u001b[0m 7387 sequences loaded\n",
      "[INFO]\u001b[0m sorting ...\n",
      "[INFO]\u001b[0m output ...\n"
     ]
    }
   ],
   "source": [
    "%%bash\n",
    "seqkit sort -s misc/init.fasta -o misc/init.fasta"
   ]
  }
 ],
 "metadata": {
  "kernelspec": {
   "display_name": "Python 3 (ipykernel)",
   "language": "python",
   "name": "python3"
  },
  "language_info": {
   "codemirror_mode": {
    "name": "ipython",
    "version": 3
   },
   "file_extension": ".py",
   "mimetype": "text/x-python",
   "name": "python",
   "nbconvert_exporter": "python",
   "pygments_lexer": "ipython3",
   "version": "3.11.5"
  }
 },
 "nbformat": 4,
 "nbformat_minor": 5
}
