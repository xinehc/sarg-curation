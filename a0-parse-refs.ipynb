{
 "cells": [
  {
   "cell_type": "code",
   "execution_count": 1,
   "id": "d195eb89",
   "metadata": {},
   "outputs": [],
   "source": [
    "import pandas as pd\n",
    "import regex as re\n",
    "import glob\n",
    "from Bio import SeqIO"
   ]
  },
  {
   "cell_type": "code",
   "execution_count": 2,
   "id": "644ea7e0-799a-4c57-b3b7-752960f8d1e1",
   "metadata": {},
   "outputs": [
    {
     "name": "stdout",
     "output_type": "stream",
     "text": [
      "dups: NCBI|amr:point|pleuromutilin|eat(A)|WP_002296175.1\n",
      "dups: NCBI|amr:point|phenicol|fexA|WP_015585966.1\n",
      "dups: NCBI|amr:point|glycopeptide|vanR-Cd|WP_003436401.1\n",
      "dups: NCBI|amr:point|glycopeptide|vanS-Cd|WP_011861275.1\n"
     ]
    }
   ],
   "source": [
    "records = []\n",
    "\n",
    "ncbi = pd.read_table('reference/refgenes.tsv').fillna('NA')\n",
    "ncbi['id'] = 'NCBI|' + (ncbi['Type'] + ':' + ncbi['Subtype']).str.lower() + '|' + ncbi['Class'].str.lower().str.replace(' ', '_') + '|' + ncbi['Gene family'].str.replace(' ', '_')\n",
    "ncbi2id = dict()\n",
    "for _, i in ncbi.iterrows():\n",
    "    if i['RefSeq protein'] != 'NA':\n",
    "        ncbi2id[i['RefSeq protein']] = i['id']\n",
    "    elif i['GenBank protein'] != 'NA':\n",
    "        ncbi2id[i['GenBank protein']] = i['id']\n",
    "\n",
    "dups = set()\n",
    "with open('reference/proteins.faa') as handle:\n",
    "    for record in SeqIO.parse(handle, 'fasta'):\n",
    "        if record.id in ncbi2id:\n",
    "            record.id = ncbi2id.get(record.id) + '|' + record.id\n",
    "            if record.id not in dups:\n",
    "                dups.add(record.id)\n",
    "                if '|amr:amr|' in record.id or '|stress:biocide|' in record.id:\n",
    "                    records.append(record)\n",
    "            else:\n",
    "                print(f'dups: {record.id}')\n",
    "\n",
    "\n",
    "card = pd.read_table('reference/aro_index.tsv').fillna('NA')\n",
    "card['id'] = (card['Drug Class'].str.lower().str.replace(' antibiotic', '') + '|' + card['CARD Short Name']).str.replace(' ', '_')\n",
    "card2id = card.set_index('ARO Accession').id.to_dict()\n",
    "\n",
    "dups = set()\n",
    "for file in glob.glob('reference/protein*.fasta'):\n",
    "    with open(file) as handle:\n",
    "        for record in SeqIO.parse(handle, 'fasta'):\n",
    "            ARO = re.search('ARO:[0-9]+', record.description).group()\n",
    "            record.id = 'CARD|' + file.split('fasta_')[1].split('.')[0].replace('protein_', '').replace('_model', '') + '|' + card2id.get(ARO) + '|' + record.id.split('|')[-3]\n",
    "            if record.id not in dups:\n",
    "                dups.add(record.id)\n",
    "                if '|homolog|' in record.id:\n",
    "                    records.append(record)\n",
    "            else:\n",
    "                print(record.id)\n",
    "\n",
    "with open('reference/sequence.fasta', 'w') as output_handle:\n",
    "    SeqIO.write(records, output_handle, 'fasta')"
   ]
  }
 ],
 "metadata": {
  "kernelspec": {
   "display_name": "Python 3 (ipykernel)",
   "language": "python",
   "name": "python3"
  },
  "language_info": {
   "codemirror_mode": {
    "name": "ipython",
    "version": 3
   },
   "file_extension": ".py",
   "mimetype": "text/x-python",
   "name": "python",
   "nbconvert_exporter": "python",
   "pygments_lexer": "ipython3",
   "version": "3.11.5"
  }
 },
 "nbformat": 4,
 "nbformat_minor": 5
}
