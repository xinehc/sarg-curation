{
 "cells": [
  {
   "cell_type": "code",
   "execution_count": 1,
   "id": "3c4e91f0-387f-4bc8-aa9a-36887a666854",
   "metadata": {},
   "outputs": [],
   "source": [
    "import json5\n",
    "import glob\n",
    "import pandas as pd\n",
    "import regex as re\n",
    "from Bio import SeqIO\n",
    "from collections import defaultdict"
   ]
  },
  {
   "cell_type": "code",
   "execution_count": 2,
   "id": "84efdbcb-b6c6-46ec-acc6-c0a7606ba229",
   "metadata": {},
   "outputs": [],
   "source": [
    "## parse sarg.json\n",
    "added = {}\n",
    "discarded = set()\n",
    "\n",
    "replaced_accs = set()\n",
    "replaced_seqs = dict()\n",
    "replaced_genes = dict()\n",
    "\n",
    "with open('sarg.json', 'r') as f:\n",
    "    for i, j in json5.load(f).items():\n",
    "        if i != 'discarded':\n",
    "            for k, l in j.items():\n",
    "                if k == 'discarded':\n",
    "                    discarded.update(l)\n",
    "                if k == 'changed':\n",
    "                    replaced_seqs.update({z: x for x, y in l.items() for z in y if isinstance(y, list)})\n",
    "                    replaced_accs.update({z.split('|')[-1] for x, y in l.items() for z in y if isinstance(y, list)})\n",
    "                    replaced_genes.update({x: y for x, y in l.items() if not isinstance(y, list)})\n",
    "                if k == 'added':\n",
    "                    for m, n in l.items():\n",
    "                        added[m] = 'REF|' + i + '|' + n + '|' + m\n",
    "        else:\n",
    "            discarded.update(j)"
   ]
  },
  {
   "cell_type": "code",
   "execution_count": 3,
   "id": "ecde4781-0530-4880-865a-5e8e0597b5be",
   "metadata": {},
   "outputs": [],
   "source": [
    "records = []\n",
    "dups = set()\n",
    "\n",
    "## parse NDARO\n",
    "ncbi = pd.read_table('reference/refgenes.tsv').fillna('NA')\n",
    "ncbi['accession'] = ncbi.apply(lambda x: x['RefSeq protein'] if x['RefSeq protein']!='NA' else x['GenBank protein'], axis=1)\n",
    "ncbi = ncbi[(ncbi.groupby('accession').transform('size') == 1) & (ncbi.Subtype.isin(['BIOCIDE', 'AMR']))]\n",
    "ncbi['id'] = 'NCBI|' + (ncbi['Type'] + ':' + ncbi['Subtype']).str.lower() + '|' + ncbi['Class'].str.lower().str.replace(' ', '_') + '|' + ncbi['Gene family'].str.replace(' ', '_')\n",
    "acc2id = ncbi.set_index('accession')['id'].to_dict()\n",
    "\n",
    "with open('reference/proteins.faa') as handle:\n",
    "    for record in SeqIO.parse(handle, 'fasta'):\n",
    "        if record.id in acc2id:\n",
    "            record.id = acc2id.get(record.id) + '|' + record.id\n",
    "            if record.id not in discarded and record.seq not in dups:\n",
    "                dups.add(record.seq)\n",
    "                records.append(record)\n",
    "\n",
    "## parse CARD\n",
    "card = pd.read_table('reference/aro_index.tsv').fillna('NA')\n",
    "card['id'] = (card['Drug Class'].str.lower().str.replace(' antibiotic', '') + '|' + card['CARD Short Name']).str.replace(' ', '_')\n",
    "acc2id = card.set_index('ARO Accession')['id'].to_dict()\n",
    "\n",
    "for file in glob.glob('reference/protein_fasta_protein_homolog_model.fasta'):\n",
    "    with open(file) as handle:\n",
    "        for record in SeqIO.parse(handle, 'fasta'):\n",
    "            record.id = 'CARD|homolog|' + acc2id.get(re.search('ARO:[0-9]+', record.description).group()) + '|' + record.id.split('|')[-3]\n",
    "            if record.id not in discarded and record.seq not in dups:\n",
    "                dups.add(record.seq)\n",
    "                records.append(record)"
   ]
  },
  {
   "cell_type": "code",
   "execution_count": 4,
   "id": "e1810e9e-4a6f-4f02-a9ed-008754c6af21",
   "metadata": {},
   "outputs": [],
   "source": [
    "%%bash\n",
    "seqkit sort -s reference/reference.fasta -o reference/reference.fasta --quiet"
   ]
  },
  {
   "cell_type": "code",
   "execution_count": 5,
   "id": "8135ec26-4b65-4dfc-bfce-06f63b122be5",
   "metadata": {},
   "outputs": [],
   "source": [
    "unused = []\n",
    "with open('reference/reference.fasta') as handle:\n",
    "    for record in SeqIO.parse(handle, 'fasta'):\n",
    "        if record.seq not in dups:\n",
    "            dups.add(record.seq)\n",
    "            if record.id in added:\n",
    "                record.id = added.get(record.id)\n",
    "                records.append(record)\n",
    "            else:\n",
    "                unused.append(record.id)\n",
    "                print(f'unused: {record.id}')\n",
    "\n",
    "with open('reference/sequence.fasta', 'w') as output_handle:\n",
    "    SeqIO.write(records, output_handle, 'fasta')"
   ]
  },
  {
   "cell_type": "code",
   "execution_count": 6,
   "id": "eeb82133-7c13-48fd-8d16-550d781425b1",
   "metadata": {},
   "outputs": [],
   "source": [
    "records_renamed = []\n",
    "for record in records:\n",
    "    if 'REF|' in record.id:\n",
    "        if record.id in replaced_seqs:\n",
    "            record.id = replaced_seqs.get(record.id)\n",
    "        else:\n",
    "            record.id = '@'.join(record.id.split('|')[1:3])\n",
    "    elif 'NCBI|' in record.id or 'CARD|' in record.id:\n",
    "        if record.id in replaced_seqs:\n",
    "            record.id = replaced_seqs.get(record.id)\n",
    "        else:\n",
    "            if '|stress:biocide|' in record.id:\n",
    "                record.id = 'biocide@' + record.id.split('|')[3]\n",
    "            else:\n",
    "                record.id = '@'.join(record.id.split('|')[2:4])\n",
    "\n",
    "    gene, id = record.id.split('@')[-1], record.id\n",
    "    if record.name not in replaced_accs:\n",
    "        for k, v in replaced_genes.items():\n",
    "            id = re.sub(k, v, id)\n",
    "\n",
    "    if 'sp|' in record.name or 'tr|' in record.name or 'gb|' in record.name:\n",
    "        record.name = record.name.split('|')[1]\n",
    "\n",
    "    record.id = f\"SARG|{id.replace('@', '|')}|{record.name}\"\n",
    "    record.description = record.description.split(' >')[0]    \n",
    "    if id.split('@')[-1] not in discarded and id.split('@')[-2] not in discarded and gene not in discarded:\n",
    "        records_renamed.append(record)"
   ]
  },
  {
   "cell_type": "code",
   "execution_count": 7,
   "id": "6e9fe45d-c2a2-4f35-bc05-d1f0632a850b",
   "metadata": {},
   "outputs": [],
   "source": [
    "with open('misc/init.fa', 'w') as output_handle:\n",
    "    SeqIO.write(records_renamed, output_handle, 'fasta')"
   ]
  },
  {
   "cell_type": "code",
   "execution_count": 8,
   "id": "49341873-13d1-4a49-b56d-3961303e1e6d",
   "metadata": {
    "editable": true,
    "slideshow": {
     "slide_type": ""
    },
    "tags": []
   },
   "outputs": [],
   "source": [
    "%%bash\n",
    "seqkit sort -s misc/init.fa -o misc/init.fa --quiet"
   ]
  }
 ],
 "metadata": {
  "kernelspec": {
   "display_name": "Python 3 (ipykernel)",
   "language": "python",
   "name": "python3"
  },
  "language_info": {
   "codemirror_mode": {
    "name": "ipython",
    "version": 3
   },
   "file_extension": ".py",
   "mimetype": "text/x-python",
   "name": "python",
   "nbconvert_exporter": "python",
   "pygments_lexer": "ipython3",
   "version": "3.12.3"
  }
 },
 "nbformat": 4,
 "nbformat_minor": 5
}
