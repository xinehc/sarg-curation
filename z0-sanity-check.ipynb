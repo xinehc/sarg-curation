{
 "cells": [
  {
   "cell_type": "code",
   "execution_count": 1,
   "id": "9759648f-6495-4fb2-b746-32713c948892",
   "metadata": {},
   "outputs": [],
   "source": [
    "import json5\n",
    "from collections import defaultdict\n",
    "import glob\n",
    "import pandas as pd\n",
    "import regex as re\n",
    "from Bio import SeqIO"
   ]
  },
  {
   "cell_type": "code",
   "execution_count": 2,
   "id": "f37ce30a-58d2-485e-a319-df4a985cd5b8",
   "metadata": {},
   "outputs": [
    {
     "name": "stderr",
     "output_type": "stream",
     "text": [
      "[INFO]\u001b[0m read sequences ...\n",
      "[INFO]\u001b[0m 493 sequences loaded\n",
      "[INFO]\u001b[0m sorting ...\n",
      "[INFO]\u001b[0m output ...\n"
     ]
    },
    {
     "name": "stdout",
     "output_type": "stream",
     "text": [
      "unused: REF|NA|Rv1877|sp|P9WG85|Y1877_MYCTU\n",
      "unused: REF|NA|vraF|WP_001637630.1\n",
      "unused: REF|NA|nicT|sp|I6YEJ7|NICT_MYCTU\n",
      "unused: REF|NA|protein|WP_003722374.1\n",
      "unused: REF|NA|transporter|WP_000473297.1\n",
      "unused: REF|NA|mmpS5|sp|P9WJS7|MMPS5_MYCTU\n",
      "unused: REF|NA|SAV1866|sp|Q99T13|Y1866_STAAM\n",
      "unused: REF|NA|transporter|WP_000905722.1\n",
      "unused: REF|NA|Rv1273c|sp|P9WQJ1|Y1273_MYCTU\n",
      "unused: REF|NA|Rv1410c|sp|P9WJY3|MFS55_MYCTU\n",
      "unused: REF|NA|kac|tr|Q75PS3|Q75PS3_STRKN\n",
      "unused: REF|NA|Rv2686c|sp|P9WJB3|FLQE2_MYCTU\n",
      "unused: REF|NA|Rv0194|sp|O53645|MDREP_MYCTU\n",
      "unused: REF|NA|Rv1218c|sp|O86311|MEATP_MYCTU\n",
      "unused: REF|NA|vraG|WP_002457535.1\n",
      "unused: REF|NA|vraF|WP_020363729.1\n",
      "unused: REF|NA|kmr|tr|Q75PS4|Q75PS4_STRKN\n",
      "unused: REF|NA|Rv1217c|sp|O05318|MEPRM_MYCTU\n",
      "unused: REF|NA|Rv2688c|sp|P9WQL7|FLQE1_MYCTU\n",
      "unused: REF|NA|Rv0191|sp|P9WJX7|CHLEP_MYCTU\n",
      "unused: REF|NA|Rv1634|sp|P9WJX3|Y1634_MYCTU\n",
      "unused: REF|NA|vraG|WP_000143623.1\n",
      "unused: REF|NA|transporter|WP_003119853.1\n",
      "unused: REF|NA|permease|WP_010989900.1\n",
      "unused: REF|NA|PA4990|sp|Q9HUH5|MTDTR_PSEAE\n",
      "unused: REF|NA|Rv2687c|sp|P9WJB1|FLQE3_MYCTU\n",
      "unused: REF|NA|VP1155|sp|Q87QJ4|PACE_VIBPA\n"
     ]
    },
    {
     "name": "stderr",
     "output_type": "stream",
     "text": [
      "[INFO]\u001b[0m read sequences ...\n",
      "[INFO]\u001b[0m 7393 sequences loaded\n",
      "[INFO]\u001b[0m sorting ...\n",
      "[INFO]\u001b[0m output ...\n"
     ]
    }
   ],
   "source": [
    "%run a1-curate-seqs.ipynb"
   ]
  },
  {
   "cell_type": "code",
   "execution_count": 3,
   "id": "81cee92c-7844-4696-a3f1-9319bbb592ac",
   "metadata": {},
   "outputs": [],
   "source": [
    "%%bash\n",
    "mkdir -p tmp\n",
    "mmseqs easy-cluster misc/init.fasta tmp/init tmp/init \\\n",
    "    --cov-mode 0 -c 0.95 --min-seq-id 0.95 -s 7.5 --cluster-reassign \\\n",
    "    --threads 64 > /dev/null\n",
    "rm -rf tmp/init"
   ]
  },
  {
   "cell_type": "code",
   "execution_count": 4,
   "id": "a6257fa5-9d6c-420b-9bca-19a734e4bd43",
   "metadata": {},
   "outputs": [
    {
     "name": "stdout",
     "output_type": "stream",
     "text": [
      "Empty DataFrame\n",
      "Columns: [left, right, size]\n",
      "Index: []\n"
     ]
    }
   ],
   "source": [
    "c = pd.read_table('tmp/init_cluster.tsv', header=None)\n",
    "c['left'] = c[0].str.split('|').str.get(-2)\n",
    "c['right'] = c[1].str.split('|').str.get(-2)\n",
    "\n",
    "c['id'] = c.left == c.right\n",
    "c[0] = c[0].str.split('|').str.get(-1)\n",
    "c[1] = c[1].str.split('|').str.get(-1)\n",
    "\n",
    "print(c[c.id==False].groupby(['left',  'right'], as_index=False).size().tail(60))"
   ]
  },
  {
   "cell_type": "code",
   "execution_count": 5,
   "id": "98b9f85b-a274-4eb7-9dc6-9e23b8665cb1",
   "metadata": {},
   "outputs": [
    {
     "data": {
      "text/html": [
       "<div>\n",
       "<style scoped>\n",
       "    .dataframe tbody tr th:only-of-type {\n",
       "        vertical-align: middle;\n",
       "    }\n",
       "\n",
       "    .dataframe tbody tr th {\n",
       "        vertical-align: top;\n",
       "    }\n",
       "\n",
       "    .dataframe thead th {\n",
       "        text-align: right;\n",
       "    }\n",
       "</style>\n",
       "<table border=\"1\" class=\"dataframe\">\n",
       "  <thead>\n",
       "    <tr style=\"text-align: right;\">\n",
       "      <th></th>\n",
       "      <th>0</th>\n",
       "      <th>1</th>\n",
       "      <th>left</th>\n",
       "      <th>right</th>\n",
       "      <th>id</th>\n",
       "    </tr>\n",
       "  </thead>\n",
       "  <tbody>\n",
       "  </tbody>\n",
       "</table>\n",
       "</div>"
      ],
      "text/plain": [
       "Empty DataFrame\n",
       "Columns: [0, 1, left, right, id]\n",
       "Index: []"
      ]
     },
     "execution_count": 5,
     "metadata": {},
     "output_type": "execute_result"
    }
   ],
   "source": [
    "c[c.id==False]"
   ]
  },
  {
   "cell_type": "code",
   "execution_count": 6,
   "id": "675450db-20f9-40db-bc6c-950e130d43f1",
   "metadata": {},
   "outputs": [],
   "source": [
    "added = {}\n",
    "discarded = set()\n",
    "with open('sarg.json', 'r') as f:\n",
    "    for i,j in json5.load(f).items():\n",
    "        if i != 'discarded':\n",
    "            for k,l in j.items():\n",
    "                if k == 'discarded':\n",
    "                    discarded.update(l)\n",
    "                if k == 'added':\n",
    "                    for m,n in l.items():\n",
    "                        added[m] = 'REF|' + i + '|' + n + '|' + m\n",
    "        else:\n",
    "            discarded.update(j)\n",
    "\n",
    "bxy = dict()\n",
    "with open('misc/sarg2nr.fa') as handle:\n",
    "    for record in SeqIO.parse(handle, 'fasta'):\n",
    "        bxy[record.seq] = record.description.split(' >')[0].split(' ',1)[1].rsplit(' [')[0].split('MULTISPECIES: ')[-1]\n",
    "with open('misc/sarg2env_nr.fa') as handle:\n",
    "    for record in SeqIO.parse(handle, 'fasta'):\n",
    "        if record.seq not in bxy:\n",
    "            bxy[record.seq] = record.description.split(' >')[0].split(' ',1)[1].rsplit(' [')[0].split('MULTISPECIES: ')[-1]\n",
    "\n",
    "seq = dict()\n",
    "dups = set()\n",
    "with open('reference/sequence.fasta') as f:\n",
    "    for record in SeqIO.parse(f, 'fasta'):\n",
    "        if record.seq not in dups and record.id not in discarded:\n",
    "            dups.add(record.seq)\n",
    "            seq[record.seq] = record.id\n",
    "\n",
    "with open('reference/reference.fasta') as f:\n",
    "    for record in SeqIO.parse(f, 'fasta'):\n",
    "        if record.seq not in dups and record.id not in discarded:\n",
    "            dups.add(record.seq)\n",
    "            seq[record.seq] = added.get(record.id)\n",
    "\n",
    "rec = []\n",
    "records = []\n",
    "with open('misc/init.fasta') as f:\n",
    "    for record in SeqIO.parse(f, 'fasta'):\n",
    "        rec.append([record.id, seq.get(record.seq), bxy.get(record.seq), record.description.split('[')[-1].split(']')[0]])\n",
    "        record.id = seq.get(record.seq)\n",
    "        records.append(record)\n",
    "\n",
    "with open('tmp/subject.fa', 'w') as output_handle:\n",
    "    SeqIO.write(records, output_handle, 'fasta')\n",
    "\n",
    "rec = pd.DataFrame(rec, columns = ['SARG', 'ref', 'desc', 'spec'])\n",
    "rec['type'] = rec['SARG'].str.split('|').str.get(1)\n",
    "rec['subtype'] = rec['SARG'].str.split('|').str.get(2)\n",
    "rec['accession'] = rec['SARG'].str.split('|').str.get(3)\n",
    "\n",
    "cols = ['type', 'subtype', 'ref', 'desc', 'spec']\n",
    "rec[cols].sort_values(cols).to_csv('misc/sarg.tsv', index=False, sep='\\t')"
   ]
  },
  {
   "cell_type": "code",
   "execution_count": 7,
   "id": "0e33125a-35c2-41c8-9886-3cc5e97ecc31",
   "metadata": {},
   "outputs": [],
   "source": [
    "# %%bash\n",
    "# wget https://ftp.ncbi.nlm.nih.gov/pathogen/Antimicrobial_resistance/AMRFinderPlus/database/latest/ReferenceGeneHierarchy.txt -P tmp -q"
   ]
  },
  {
   "cell_type": "code",
   "execution_count": 8,
   "id": "e0ca8ac9-0881-41cd-8509-e68d354da3d1",
   "metadata": {},
   "outputs": [
    {
     "data": {
      "text/plain": [
       "#Hierarchy node ID  hierarchy                                                       \n",
       "aac(3)-I            aac(3)-I;aac(3)_gen;aac;AME;AMR;ALL                                  3\n",
       "aac(3)-VIII         aac(3)-VIII;aac(3);aac(3)_gen;aac;AME;AMR;ALL                        3\n",
       "aac(6')-29          aac(6')-29;aac(6');aac;AME;AMR;ALL                                   1\n",
       "aac(6')-Ian         aac(6')-Ian;aac(6');aac;AME;AMR;ALL                                  2\n",
       "aac(6')-Ib-AGKT     aac(6')-Ib-AGKT;aac(6')-Ib;aac(6')-set_A;aac(6');aac;AME;AMR;ALL     2\n",
       "aac(6')-Ib-AKT      aac(6')-Ib-AKT;aac(6')-Ib;aac(6')-set_A;aac(6');aac;AME;AMR;ALL     19\n",
       "aac(6')-Ib-G        aac(6')-Ib-G;aac(6')-Ib;aac(6')-set_A;aac(6');aac;AME;AMR;ALL       25\n",
       "aac(6')-Ib-cr       aac(6')-Ib-cr;aac(6')-Ib;aac(6')-set_A;aac(6');aac;AME;AMR;ALL       1\n",
       "aac(6')-set_A       aac(6')-set_A;aac(6');aac;AME;AMR;ALL                                7\n",
       "aac(6')_Acine       aac(6')_Acine;aac(6')-I;aac(6')_E;aac(6');aac;AME;AMR;ALL            1\n",
       "aac(6')_Entco       aac(6')_Entco;aac(6');aac;AME;AMR;ALL                                6\n",
       "aac(6')_Ia_fam      aac(6')_Ia_fam;aac(6');aac;AME;AMR;ALL                               1\n",
       "aac(6')_Serra       aac(6')_Serra;aac(6')_E;aac(6');aac;AME;AMR;ALL                     33\n",
       "aac(6')_Steno       aac(6')_Steno;aac(6')_E;aac(6');aac;AME;AMR;ALL                      2\n",
       "aac(6')_Strep       aac(6')_Strep;aac(6');aac;AME;AMR;ALL                                7\n",
       "aadA1               aadA1;ant(3'')-Ia;ant(3'')-I;ant;AME;AMR;ALL                        53\n",
       "ant(3'')-Ia         ant(3'')-Ia;ant(3'')-I;ant;AME;AMR;ALL                               3\n",
       "aph(3')-VI          aph(3')-VI;aph(3');aph;AME;AMR;ALL                                   1\n",
       "arr                 arr;AMR;ALL                                                          1\n",
       "arsR_R46            arsR_R46;arsR;HTH_5;METAL;STRESS;ALL                                 1\n",
       "bla-A               bla-A;bla;AMR;ALL                                                    2\n",
       "bla-A2              bla-A2;bla-A;bla;AMR;ALL                                             1\n",
       "bla-C               bla-C;bla;AMR;ALL                                                    1\n",
       "blaAQU              blaAQU;blaCMY-FOX;bla-C;bla;AMR;ALL                                  3\n",
       "blaBJP              blaBJP;bla-B3;bla-B;bla;AMR;ALL                                      1\n",
       "blaEC               blaEC;CMY2-MIR-ACT-EC;bla-C;bla;AMR;ALL                              3\n",
       "blaOCH              blaOCH;bla-C;bla;AMR;ALL                                             7\n",
       "blaOKP-B            blaOKP-B;blaOKP;blaSHV-LEN;bla-A;bla;AMR;ALL                         1\n",
       "blaPEN-bcc          blaPEN-bcc;blaPEN;bla-A;bla;AMR;ALL                                  1\n",
       "blaR1               blaR1;blaR1_gen;AMR;ALL                                              3\n",
       "blaR1_gen           blaR1_gen;AMR;ALL                                                    1\n",
       "blaRSA1             blaRSA1;bla-A;bla;AMR;ALL                                            1\n",
       "blaSED              blaSED;bla-A;bla;AMR;ALL                                             1\n",
       "blaSRT              blaSRT;bla-C;bla;AMR;ALL                                             4\n",
       "blaZ                blaZ;blaZ_gen;bla-A;bla;AMR;ALL                                      7\n",
       "catA9               catA9;catA;cat;AMR;ALL                                               4\n",
       "catB                catB;cat;AMR;ALL                                                     1\n",
       "cepA                cepA;bla-A2;bla-A;bla;AMR;ALL                                        3\n",
       "cfxA_fam            cfxA_fam;bla-A2;bla-A;bla;AMR;ALL                                    5\n",
       "cmlA                cmlA;cmlA_floR;MFS_efflux_CHL;MFS_efflux;EFFLUX;AMR;ALL              2\n",
       "ere(A)              ere(A);ere;AMR;ALL                                                   8\n",
       "floR                floR;cmlA_floR;MFS_efflux_CHL;MFS_efflux;EFFLUX;AMR;ALL             18\n",
       "fosA5_fam           fosA5_fam;fosA_gen;fos_GT;fos_gen;AMR;ALL                            2\n",
       "fosA_gen            fosA_gen;fos_GT;fos_gen;AMR;ALL                                      1\n",
       "fosB_gen            fosB_gen;fos_gen;AMR;ALL                                             1\n",
       "fosBx1-fam          fosBx1-fam;fosB_gen;fos_gen;AMR;ALL                                  1\n",
       "fosX_gen            fosX_gen;fos_gen;AMR;ALL                                             1\n",
       "lnu(A)              lnu(A);lnu_AE;lnu;AMR;ALL                                            7\n",
       "mcr-3_set           mcr-3_set;pmrC_gen;AMR;ALL                                           1\n",
       "mecA                mecA;mec_gen;AMR;ALL                                                 6\n",
       "dtype: int64"
      ]
     },
     "execution_count": 8,
     "metadata": {},
     "output_type": "execute_result"
    }
   ],
   "source": [
    "a = pd.read_table('tmp/ReferenceGeneHierarchy.txt').set_index('node_id').parent_node_id.to_dict()\n",
    "a['ALL'] = None\n",
    "b = dict()\n",
    "for i,j in a.items():\n",
    "    if i!='ALL':\n",
    "        b[i] = i + ';' + j\n",
    "        while True:\n",
    "            if a.get(b[i].split(';')[-1]) is None:\n",
    "                break\n",
    "            else:\n",
    "                b[i] = b[i] + ';' + a.get(b[i].split(';')[-1])\n",
    "\n",
    "ref = pd.read_table('reference/refgenes.tsv')\n",
    "ref = ref[ref.Type!='VIRULENCE']\n",
    "nset = {\n",
    "    \"aac(6')-29\",\n",
    "    \"aac(6')-set_A\",\n",
    "    \"aac(6')_Serra\",\n",
    "    \"aac(6')_Steno\",\n",
    "    \"aac(6')_Strep\",\n",
    "}\n",
    "# rec = rec[rec.accession.isin(set(ref[ref['#Hierarchy node ID'].isin(nset)]['RefSeq protein'].to_list()))]\n",
    "ref['hierarchy'] = ref['#Hierarchy node ID'].map(b)\n",
    "ref[ref['#Hierarchy node ID'].isin(a.values())].groupby(['#Hierarchy node ID', 'hierarchy']).size().head(50)"
   ]
  },
  {
   "cell_type": "code",
   "execution_count": 9,
   "id": "b4db1fda-8751-49c4-beab-42a2cbe5d653",
   "metadata": {},
   "outputs": [],
   "source": [
    "viewed = set()\n",
    "with open('misc/viewed.txt') as f:\n",
    "    for line in f:\n",
    "        if line[0]!='#' and line!='\\n':\n",
    "            viewed.update(set(line.rstrip().split(' ')))"
   ]
  },
  {
   "cell_type": "code",
   "execution_count": 10,
   "id": "2f34392b-61a3-4c0d-a368-2b081dd4e2e7",
   "metadata": {},
   "outputs": [],
   "source": [
    "%%bash\n",
    "rm -rf info\n",
    "mkdir -p info"
   ]
  },
  {
   "cell_type": "code",
   "execution_count": 11,
   "id": "67b8e325-15f6-45ee-8313-a4e38b92bbea",
   "metadata": {},
   "outputs": [],
   "source": [
    "for row, group in rec[cols][~(rec.type.isin(viewed) | (rec.subtype.isin(viewed)))].groupby('type'):\n",
    "    group['misc'] = '\"' + group['ref'] + '\", // ' + group.desc\n",
    "    group.sort_values(cols).set_index(['type', 'subtype', 'ref']).to_excel(f\"info/{row[:31].replace('/', '-')}.xlsx\")\n",
    "\n",
    "rec[(rec.type == 'aminoglycoside') & (rec.ref.str.contains('CARD'))].ref.to_csv('tmp/id.txt', index=False, header=None)"
   ]
  },
  {
   "cell_type": "code",
   "execution_count": 12,
   "id": "8279bedb-d803-4f94-8b28-b86e307ce015",
   "metadata": {},
   "outputs": [
    {
     "name": "stderr",
     "output_type": "stream",
     "text": [
      "[INFO]\u001b[0m 2 patterns loaded from file\n"
     ]
    }
   ],
   "source": [
    "%%bash\n",
    "seqkit grep -f tmp/id.txt reference/sequence.fasta > tmp/query.fa\n",
    "diamond blastp -q tmp/query.fa -d tmp/subject.fa --outfmt 6 qseqid sseqid pident qcovhsp scovhsp evalue bitscore \\\n",
    "    -k 0 --no-self-hits > tmp/hit.txt"
   ]
  },
  {
   "cell_type": "code",
   "execution_count": 13,
   "id": "5bd624b8-4cc9-40af-86c4-338c206888b9",
   "metadata": {},
   "outputs": [
    {
     "name": "stdout",
     "output_type": "stream",
     "text": [
      "\"CARD|homolog|aminoglycoside|AAC(6')-34|APB03223.1\", // NCBI|amr:amr|aminoglycoside|aac(6')-35|WP_087349651.1 | id: 53.9 qcov: 90.9 scov: 98.3\n",
      "\"CARD|homolog|aminoglycoside|APH(4)-Ib|CAA52372.1\", // NCBI|amr:amr|aminoglycoside|aph(4)-Ia|WP_000742814.1 | id: 51.3 qcov: 54.3 scov: 65.7\n"
     ]
    }
   ],
   "source": [
    "left = pd.read_table('tmp/id.txt', header=None)\n",
    "right = pd.read_table('tmp/hit.txt', header=None)\n",
    "tmp = pd.merge(left, right, how='left')\n",
    "tmp = tmp[tmp[0].str.split('|').str.get(0)!=tmp[1].str.split('|').str.get(0)].sort_values([0,6], ascending=False).groupby(0).first()\n",
    "# tmp = tmp[tmp[2] > 90]\n",
    "\n",
    "for i,j in tmp.iterrows():\n",
    "    print(f\"\\\"{i}\\\", // {j[1]} | id: {j[2]} qcov: {j[3]} scov: {j[4]}\")"
   ]
  }
 ],
 "metadata": {
  "kernelspec": {
   "display_name": "Python 3 (ipykernel)",
   "language": "python",
   "name": "python3"
  },
  "language_info": {
   "codemirror_mode": {
    "name": "ipython",
    "version": 3
   },
   "file_extension": ".py",
   "mimetype": "text/x-python",
   "name": "python",
   "nbconvert_exporter": "python",
   "pygments_lexer": "ipython3",
   "version": "3.11.5"
  }
 },
 "nbformat": 4,
 "nbformat_minor": 5
}
