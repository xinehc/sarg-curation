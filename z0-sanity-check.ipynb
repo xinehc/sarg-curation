{
 "cells": [
  {
   "cell_type": "code",
   "execution_count": 1,
   "id": "9759648f-6495-4fb2-b746-32713c948892",
   "metadata": {},
   "outputs": [],
   "source": [
    "import json5\n",
    "import glob\n",
    "import pandas as pd\n",
    "import regex as re\n",
    "from Bio import SeqIO\n",
    "from collections import defaultdict"
   ]
  },
  {
   "cell_type": "code",
   "execution_count": 2,
   "id": "0fff81be-ca60-4eb4-8569-5fb8b4608120",
   "metadata": {},
   "outputs": [],
   "source": [
    "dups = set()\n",
    "with open('reference/reference.fasta') as f:\n",
    "    for record in SeqIO.parse(f, 'fasta'):\n",
    "        if record.seq not in dups:\n",
    "            dups.add(record.seq)\n",
    "        else:\n",
    "            print(record.id)"
   ]
  },
  {
   "cell_type": "code",
   "execution_count": 3,
   "id": "f37ce30a-58d2-485e-a319-df4a985cd5b8",
   "metadata": {},
   "outputs": [
    {
     "name": "stderr",
     "output_type": "stream",
     "text": [
      "[INFO]\u001b[0m read sequences ...\n",
      "[INFO]\u001b[0m 585 sequences loaded\n",
      "[INFO]\u001b[0m sorting ...\n",
      "[INFO]\u001b[0m output ...\n",
      "[INFO]\u001b[0m read sequences ...\n",
      "[INFO]\u001b[0m 7654 sequences loaded\n",
      "[INFO]\u001b[0m sorting ...\n",
      "[INFO]\u001b[0m output ...\n"
     ]
    }
   ],
   "source": [
    "%run a0-parse-refs.ipynb"
   ]
  },
  {
   "cell_type": "code",
   "execution_count": 4,
   "id": "81cee92c-7844-4696-a3f1-9319bbb592ac",
   "metadata": {},
   "outputs": [],
   "source": [
    "%%bash\n",
    "mmseqs easy-cluster misc/init.fa tmp/init tmp/TMP \\\n",
    "    --cov-mode 0 -c 0.95 --min-seq-id 0.95 -s 7.5 --cluster-reassign \\\n",
    "    --threads 48 > /dev/null"
   ]
  },
  {
   "cell_type": "code",
   "execution_count": 5,
   "id": "a6257fa5-9d6c-420b-9bca-19a734e4bd43",
   "metadata": {},
   "outputs": [
    {
     "name": "stdout",
     "output_type": "stream",
     "text": [
      "Empty DataFrame\n",
      "Columns: [left, right, size]\n",
      "Index: []\n"
     ]
    }
   ],
   "source": [
    "## check whether some subtypes are clustered at 95%\n",
    "c = pd.read_table('tmp/init_cluster.tsv', header=None)\n",
    "c['left'] = c[0].str.split('|').str.get(-2)\n",
    "c['right'] = c[1].str.split('|').str.get(-2)\n",
    "\n",
    "c['id'] = c.left == c.right\n",
    "c[0] = c[0].str.split('|').str.get(-1)\n",
    "c[1] = c[1].str.split('|').str.get(-1)\n",
    "\n",
    "print(c[c.id==False].groupby(['left',  'right'], as_index=False).size().tail(60))"
   ]
  },
  {
   "cell_type": "code",
   "execution_count": 6,
   "id": "e7083303-7f35-4cc5-a72f-29338050d776",
   "metadata": {},
   "outputs": [],
   "source": [
    "sarg2ref = dict()\n",
    "with open('reference/sequence.fasta') as f:\n",
    "    for record in SeqIO.parse(f, 'fasta'):\n",
    "        sarg2ref[record.seq] = record.id\n",
    "\n",
    "rows = []\n",
    "records = []\n",
    "with open('sarg_ref.fa') as f:\n",
    "    for record in SeqIO.parse(f, 'fasta'):\n",
    "        record.id = sarg2ref.get(record.seq)\n",
    "        records.append(record)\n",
    "\n",
    "with open('tmp/subject.fa', 'w') as output_handle:\n",
    "    SeqIO.write(records, output_handle, 'fasta')"
   ]
  },
  {
   "cell_type": "code",
   "execution_count": 7,
   "id": "b4db1fda-8751-49c4-beab-42a2cbe5d653",
   "metadata": {},
   "outputs": [],
   "source": [
    "viewed = set()\n",
    "with open('misc/viewed.txt') as f:\n",
    "    for line in f:\n",
    "        if line[0]!='#' and line!='\\n':\n",
    "            viewed.update(set(line.rstrip().split(' ')))"
   ]
  },
  {
   "cell_type": "code",
   "execution_count": 8,
   "id": "2f34392b-61a3-4c0d-a368-2b081dd4e2e7",
   "metadata": {},
   "outputs": [],
   "source": [
    "%%bash\n",
    "rm -rf info\n",
    "mkdir -p info"
   ]
  },
  {
   "cell_type": "code",
   "execution_count": 9,
   "id": "67b8e325-15f6-45ee-8313-a4e38b92bbea",
   "metadata": {},
   "outputs": [],
   "source": [
    "summary = pd.read_table('misc/summary.tsv')\n",
    "for row, group in summary[~(summary.type.isin(viewed) | (summary.subtype.isin(viewed)))].groupby('type'):\n",
    "    group['misc'] = '\"' + group['ref'] + '\", // ' + group.desc\n",
    "    group.sort_values(cols).set_index(['type', 'subtype', 'ref', 'spec']).to_excel(f\"info/{row[:31].replace('/', '-')}.xlsx\")"
   ]
  },
  {
   "cell_type": "code",
   "execution_count": null,
   "id": "d184513f-5099-4ede-a476-62abd99f6fd7",
   "metadata": {},
   "outputs": [],
   "source": []
  },
  {
   "cell_type": "code",
   "execution_count": null,
   "id": "86b46ae5-31d5-4e1f-803b-997cf761539c",
   "metadata": {},
   "outputs": [],
   "source": []
  },
  {
   "cell_type": "code",
   "execution_count": null,
   "id": "59f94af2-6e09-49a2-bbc0-78abbae011a6",
   "metadata": {},
   "outputs": [],
   "source": []
  },
  {
   "cell_type": "code",
   "execution_count": null,
   "id": "fa948e4c-a2d2-4474-a712-76e50b9e44a9",
   "metadata": {},
   "outputs": [],
   "source": []
  },
  {
   "cell_type": "code",
   "execution_count": null,
   "id": "78821322-5de7-4026-8d9d-37b8b9c0da33",
   "metadata": {},
   "outputs": [],
   "source": []
  },
  {
   "cell_type": "code",
   "execution_count": 10,
   "id": "3cf36f4a-d67d-419f-87ea-c059db3b2e99",
   "metadata": {},
   "outputs": [],
   "source": [
    "%%bash\n",
    "wget -qN https://ftp.ncbi.nlm.nih.gov/pathogen/Antimicrobial_resistance/AMRFinderPlus/database/latest/ReferenceGeneHierarchy.txt -P tmp\n",
    "wget -qN https://ftp.ncbi.nlm.nih.gov/pathogen/Antimicrobial_resistance/AMRFinderPlus/database/latest/ReferenceGeneCatalog.txt -P tmp"
   ]
  },
  {
   "cell_type": "code",
   "execution_count": 11,
   "id": "ab1e259e-3d18-4d64-ad49-e955eeeec3a8",
   "metadata": {},
   "outputs": [
    {
     "data": {
      "text/plain": [
       "hierarchy_node   hierarchy                                                       \n",
       "aac(3)-I         aac(3)-I;aac(3)_gen;aac;AME;AMR;ALL                                  3\n",
       "aac(3)-VIII      aac(3)-VIII;aac(3);aac(3)_gen;aac;AME;AMR;ALL                        3\n",
       "aac(6')-29       aac(6')-29;aac(6');aac;AME;AMR;ALL                                   1\n",
       "aac(6')-Ian      aac(6')-Ian;aac(6');aac;AME;AMR;ALL                                  2\n",
       "aac(6')-Ib-AGKT  aac(6')-Ib-AGKT;aac(6')-Ib;aac(6')-set_A;aac(6');aac;AME;AMR;ALL     2\n",
       "aac(6')-Ib-AKT   aac(6')-Ib-AKT;aac(6')-Ib;aac(6')-set_A;aac(6');aac;AME;AMR;ALL     19\n",
       "aac(6')-Ib-G     aac(6')-Ib-G;aac(6')-Ib;aac(6')-set_A;aac(6');aac;AME;AMR;ALL       25\n",
       "aac(6')-Ib-cr    aac(6')-Ib-cr;aac(6')-Ib;aac(6')-set_A;aac(6');aac;AME;AMR;ALL       1\n",
       "aac(6')-set_A    aac(6')-set_A;aac(6');aac;AME;AMR;ALL                                7\n",
       "aac(6')_Acine    aac(6')_Acine;aac(6')-I;aac(6')_E;aac(6');aac;AME;AMR;ALL            1\n",
       "aac(6')_Entco    aac(6')_Entco;aac(6');aac;AME;AMR;ALL                                6\n",
       "aac(6')_Ia_fam   aac(6')_Ia_fam;aac(6');aac;AME;AMR;ALL                               1\n",
       "aac(6')_Serra    aac(6')_Serra;aac(6')_E;aac(6');aac;AME;AMR;ALL                     33\n",
       "aac(6')_Steno    aac(6')_Steno;aac(6')_E;aac(6');aac;AME;AMR;ALL                      2\n",
       "aac(6')_Strep    aac(6')_Strep;aac(6');aac;AME;AMR;ALL                                7\n",
       "aadA1            aadA1;ant(3'')-Ia;ant(3'')-I;ant;AME;AMR;ALL                        53\n",
       "ant(3'')-Ia      ant(3'')-Ia;ant(3'')-I;ant;AME;AMR;ALL                               3\n",
       "aph(3')-VI       aph(3')-VI;aph(3');aph;AME;AMR;ALL                                   1\n",
       "arr              arr;AMR;ALL                                                          1\n",
       "arsR_R46         arsR_R46;arsR;HTH_5;METAL;STRESS;ALL                                 1\n",
       "bla-A            bla-A;bla;AMR;ALL                                                    2\n",
       "bla-A2           bla-A2;bla-A;bla;AMR;ALL                                             1\n",
       "bla-C            bla-C;bla;AMR;ALL                                                    1\n",
       "blaAQU           blaAQU;blaCMY-FOX;bla-C;bla;AMR;ALL                                  3\n",
       "blaBJP           blaBJP;bla-B3;bla-B;bla;AMR;ALL                                      1\n",
       "blaEC            blaEC;CMY2-MIR-ACT-EC;bla-C;bla;AMR;ALL                              3\n",
       "blaOCH           blaOCH;bla-C;bla;AMR;ALL                                             7\n",
       "blaOKP-B         blaOKP-B;blaOKP;blaSHV-LEN;bla-A;bla;AMR;ALL                         1\n",
       "blaPEN-bcc       blaPEN-bcc;blaPEN;bla-A;bla;AMR;ALL                                  1\n",
       "blaR1            blaR1;blaR1_gen;AMR;ALL                                              3\n",
       "blaR1_gen        blaR1_gen;AMR;ALL                                                    1\n",
       "blaRSA1          blaRSA1;bla-A;bla;AMR;ALL                                            1\n",
       "blaSED           blaSED;bla-A;bla;AMR;ALL                                             1\n",
       "blaSRT           blaSRT;bla-C;bla;AMR;ALL                                             4\n",
       "blaZ             blaZ;blaZ_gen;bla-A;bla;AMR;ALL                                      7\n",
       "catA9            catA9;catA;cat;AMR;ALL                                               4\n",
       "catB             catB;cat;AMR;ALL                                                     1\n",
       "cepA             cepA;bla-A2;bla-A;bla;AMR;ALL                                        3\n",
       "cfxA_fam         cfxA_fam;bla-A2;bla-A;bla;AMR;ALL                                    5\n",
       "cmlA             cmlA;cmlA_floR;MFS_efflux_CHL;MFS_efflux;EFFLUX;AMR;ALL              2\n",
       "cmlA_floR        cmlA_floR;MFS_efflux_CHL;MFS_efflux;EFFLUX;AMR;ALL                   1\n",
       "ere(A)           ere(A);ere;AMR;ALL                                                   8\n",
       "floR             floR;cmlA_floR;MFS_efflux_CHL;MFS_efflux;EFFLUX;AMR;ALL             18\n",
       "fosA5_fam        fosA5_fam;fosA_gen;fos_GT;fos_gen;AMR;ALL                            2\n",
       "fosA_gen         fosA_gen;fos_GT;fos_gen;AMR;ALL                                      1\n",
       "fosB_gen         fosB_gen;fos_gen;AMR;ALL                                             1\n",
       "fosBx1-fam       fosBx1-fam;fosB_gen;fos_gen;AMR;ALL                                  1\n",
       "fosX_gen         fosX_gen;fos_gen;AMR;ALL                                             1\n",
       "lnu(A)           lnu(A);lnu_AE;lnu;AMR;ALL                                            7\n",
       "mcr-3_set        mcr-3_set;pmrC_gen;AMR;ALL                                           1\n",
       "dtype: int64"
      ]
     },
     "execution_count": 11,
     "metadata": {},
     "output_type": "execute_result"
    }
   ],
   "source": [
    "a = pd.read_table('tmp/ReferenceGeneHierarchy.txt').set_index('node_id').parent_node_id.to_dict()\n",
    "a['ALL'] = None\n",
    "b = dict()\n",
    "for i, j in a.items():\n",
    "    if i != 'ALL':\n",
    "        b[i] = i + ';' + j\n",
    "        while True:\n",
    "            if a.get(b[i].split(';')[-1]) is None:\n",
    "                break\n",
    "            else:\n",
    "                b[i] = b[i] + ';' + a.get(b[i].split(';')[-1])\n",
    "\n",
    "ref = pd.read_table('tmp/ReferenceGeneCatalog.txt')\n",
    "ref = ref[ref.type!='VIRULENCE']\n",
    "ref['hierarchy'] = ref['hierarchy_node'].map(b)\n",
    "ref[ref['hierarchy_node'].isin(a.values())].groupby(['hierarchy_node', 'hierarchy']).size().head(50)"
   ]
  },
  {
   "cell_type": "code",
   "execution_count": null,
   "id": "2278c08e-036c-42c1-be35-2db145358811",
   "metadata": {},
   "outputs": [],
   "source": []
  },
  {
   "cell_type": "code",
   "execution_count": null,
   "id": "fd9bcc88-6120-4783-a882-ba967341a8a0",
   "metadata": {},
   "outputs": [],
   "source": []
  },
  {
   "cell_type": "code",
   "execution_count": null,
   "id": "67507a13-0a27-48f7-9a67-be9e678e5183",
   "metadata": {},
   "outputs": [],
   "source": []
  },
  {
   "cell_type": "code",
   "execution_count": null,
   "id": "26536ec1-98b9-4f47-99f3-f7c27f0856c9",
   "metadata": {},
   "outputs": [],
   "source": []
  },
  {
   "cell_type": "code",
   "execution_count": null,
   "id": "9df448db-7f8c-44f9-afb9-585e09a2fb0a",
   "metadata": {},
   "outputs": [],
   "source": []
  },
  {
   "cell_type": "code",
   "execution_count": 12,
   "id": "994707fd-a4fe-4531-b39a-cd258ade20bf",
   "metadata": {},
   "outputs": [],
   "source": [
    "# rows[(rows.type == 'capuramycin')].ref.to_csv('tmp/id.txt', index=False, header=None)"
   ]
  },
  {
   "cell_type": "code",
   "execution_count": 13,
   "id": "3aca4de1-f0a2-483e-9b01-0299affb8f82",
   "metadata": {},
   "outputs": [],
   "source": [
    "# %%bash\n",
    "# seqkit grep -f tmp/id.txt tmp/subject.fa > tmp/query.fa\n",
    "# diamond blastp -q tmp/query.fa -d tmp/subject.fa --outfmt 6 qseqid sseqid pident qcovhsp scovhsp evalue bitscore \\\n",
    "#     -k 0 --masking 0 > tmp/hit.txt"
   ]
  },
  {
   "cell_type": "code",
   "execution_count": 14,
   "id": "218c05a6-cd5f-424b-920d-5b3cd14d367b",
   "metadata": {},
   "outputs": [],
   "source": [
    "# left = pd.read_table('tmp/id.txt', header=None)\n",
    "# right = pd.read_table('tmp/hit.txt', header=None)\n",
    "# tmp = pd.merge(left, right, how='left')\n",
    "# tmp = tmp[tmp[0].str.split('|').str.get(0)!=tmp[1].str.split('|').str.get(0)].sort_values([0,6], ascending=False).groupby(0).head(1).set_index(0).sort_index()\n",
    "# tmp = tmp[tmp.index.str.contains('CARD')]\n",
    "\n",
    "# for i,j in tmp.iterrows():\n",
    "#     print(f\"\\\"{i}\\\", // {j[1]} | id: {j[2]} qcov: {j[3]} scov: {j[4]}\")"
   ]
  }
 ],
 "metadata": {
  "kernelspec": {
   "display_name": "Python 3 (ipykernel)",
   "language": "python",
   "name": "python3"
  },
  "language_info": {
   "codemirror_mode": {
    "name": "ipython",
    "version": 3
   },
   "file_extension": ".py",
   "mimetype": "text/x-python",
   "name": "python",
   "nbconvert_exporter": "python",
   "pygments_lexer": "ipython3",
   "version": "3.12.3"
  }
 },
 "nbformat": 4,
 "nbformat_minor": 5
}
