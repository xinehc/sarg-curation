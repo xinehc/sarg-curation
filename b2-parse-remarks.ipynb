{
 "cells": [
  {
   "cell_type": "code",
   "execution_count": 1,
   "id": "9ed06445-c5a6-4285-bd4b-8f81a2a78d49",
   "metadata": {},
   "outputs": [],
   "source": [
    "from collections import defaultdict\n",
    "from Bio import SeqIO\n",
    "\n",
    "import regex as re\n",
    "import pandas as pd\n",
    "import json"
   ]
  },
  {
   "cell_type": "code",
   "execution_count": 2,
   "id": "270c0e5b-2d80-494e-8a0f-2e6f21d1f963",
   "metadata": {},
   "outputs": [],
   "source": [
    "rep = set()\n",
    "ref = set()\n",
    "rev = defaultdict(set)\n",
    "tset = set()\n",
    "with open('sarg_ref.fa') as handle:\n",
    "    for record in SeqIO.parse(handle, 'fasta'):\n",
    "        header = record.description.split(' >')[0].split(' ',1)[1].rsplit(' [')[0].split('MULTISPECIES: ')[-1]\n",
    "        rev[header].add('@'.join(record.id.split('|')[1:3]))\n",
    "        rep.add(record.seq)\n",
    "        ref.add(record.id.split('|')[-1])\n",
    "        tset.add('@'.join(record.id.split('|')[1:3]))\n",
    "\n",
    "rev = {x: ' | '.join(sorted(y)) for x, y in rev.items()}"
   ]
  },
  {
   "cell_type": "code",
   "execution_count": 3,
   "id": "6e839001-b865-41ee-ae88-aff23df59a1d",
   "metadata": {},
   "outputs": [],
   "source": [
    "remark = pd.read_table('tmp/remark.tsv', names = ['accession', 'header', 'taxonomy', 'organisim', 'evidence', 'symbol', 'identifier']).fillna('NA')\n",
    "\n",
    "## bugfix\n",
    "## https://www.ncbi.nlm.nih.gov/genome/annotation_prok/evidence/NBR012193/\n",
    "remark.loc[remark.evidence == 'NBR012193', 'header'] = 'quaternary ammonium compound efflux SMR transporter EmrC'\n",
    "\n",
    "## clean the others\n",
    "remark = remark[~remark.accession.isin(remark[remark.evidence.str.contains('NA|Domain')].accession)]\n",
    "remark = remark[~remark.accession.isin(remark[(remark.evidence.str.contains('TIGR') | (remark.identifier.str.contains('PF'))) & (remark.symbol == 'NA')].accession)]\n",
    "remark = remark[~remark.accession.isin(ref)]\n",
    "remark['cnt'] = remark.groupby(['header', 'evidence']).transform('size')\n",
    "a2h = remark.set_index('accession').header.to_dict()"
   ]
  },
  {
   "cell_type": "code",
   "execution_count": 4,
   "id": "6f70cb62-ab40-4109-80a8-b25b85d853b6",
   "metadata": {},
   "outputs": [],
   "source": [
    "rmk = remark[['header', 'evidence', 'symbol', 'identifier', 'cnt']].drop_duplicates()\n",
    "rmk['mapped'] = rmk.header.map(rev).fillna('')\n",
    "rmk['unique'] = (rmk.mapped.str.count('\\\\|') == 0) & (rmk.mapped != '')\n",
    "rmk['valid'] = rmk.apply(lambda x: re.sub('^bla|\\\\(|\\\\)', '', x.mapped.split('@')[-1].lower()) in re.sub('\\\\(|\\\\)', '', x.header.lower()) if len(x.mapped.split('@')[-1]) > 4 else x.mapped.lower().split('@')[-1] in x.header.lower(), axis=1)\n",
    "rmk.loc[rmk.header.str.contains('/'), 'valid'] = False"
   ]
  },
  {
   "cell_type": "code",
   "execution_count": 5,
   "id": "f3b3a8c4-90d8-4c49-99ba-16d185b0b81a",
   "metadata": {},
   "outputs": [
    {
     "name": "stdout",
     "output_type": "stream",
     "text": [
      "unreviewed: 283\n"
     ]
    }
   ],
   "source": [
    "with open('misc/whitelist.json') as f:\n",
    "    wl = json.load(f)\n",
    "\n",
    "rmkk = rmk[~((rmk.unique) & (rmk.valid))].copy()\n",
    "rmkk['reviewed'] = rmkk.header.apply(lambda x: wl.get(x, {}).get('reviewed', ''))\n",
    "rmkk = rmkk.sort_values(['header', 'evidence', 'symbol'])\n",
    "\n",
    "## easy cases\n",
    "bla = rmkk[(rmkk.symbol.str.contains('^bla', regex=True)) & (rmkk.symbol.str.replace('^bla', '', regex=True) == rmkk.header.str.split(' |-').str.get(0)) & (~rmkk.symbol.str.contains('CMA|CSA|CFE|LAT|LCR|NPS', regex=True))].copy()\n",
    "bla['gene'] = 'beta-lactam@' + bla.symbol\n",
    "mcr = rmk[rmk.header.str.contains('^MCR', regex=True)].copy()\n",
    "mcr['gene'] = 'colistin@' + mcr.header.str.split(' |-related').str.get(0).str.lower()\n",
    "\n",
    "rmkk = rmkk[~(rmkk.header.isin(bla.header) | (rmkk.header.isin(mcr.header)))]\n",
    "wl = defaultdict(dict)\n",
    "for _, i in rmkk.iterrows():\n",
    "    wl[i.header]['reviewed'] = i.reviewed\n",
    "    wl[i.header]['gene'] = i.mapped\n",
    "    if 'remark' not in wl[i.header]:\n",
    "        wl[i.header]['remark'] = []\n",
    "    wl[i.header]['remark'].append(' | '.join([i.evidence, i.symbol, i.identifier, str(i['cnt'])]))\n",
    "\n",
    "wl = {x:y for x,y in wl.items() if x in set(rmkk.header)}\n",
    "with open('misc/whitelist.json', 'w') as f:\n",
    "    json.dump(wl, f, sort_keys=True, indent=4)\n",
    "\n",
    "print('unreviewed:', rmkk.header.nunique())\n",
    "assert sum(rmkk.reviewed == '') == 0, 'Make sure all uncertain cases are reviewed in <misc/whitelist.json>.'\n",
    "\n",
    "rev.update(rmkk.set_index('header').reviewed.to_dict())\n",
    "rev.update(bla.set_index('header').gene.to_dict())\n",
    "rev.update(mcr.set_index('header').gene.to_dict())"
   ]
  },
  {
   "cell_type": "code",
   "execution_count": 6,
   "id": "d19bc585-a585-4598-96bd-87aad6bff896",
   "metadata": {
    "scrolled": true
   },
   "outputs": [],
   "source": [
    "for i,j in rmkk[(rmkk.reviewed == '') | (rmkk.reviewed.str.contains(' '))].groupby(['header', 'mapped', 'reviewed']):\n",
    "    print(f'{i[0]}')\n",
    "    print(f'gene: {i[1]}')\n",
    "    print(f'reviewed: {i[2]}')\n",
    "\n",
    "    for _, k in j.iterrows():\n",
    "        print(k.evidence, k.symbol, k.identifier, k['cnt'])\n",
    "\n",
    "    print('\\n')"
   ]
  },
  {
   "cell_type": "code",
   "execution_count": 7,
   "id": "69c4723c-9074-42bb-80af-1017a499f38d",
   "metadata": {
    "scrolled": true
   },
   "outputs": [],
   "source": [
    "records = []\n",
    "ids = set()\n",
    "ads = set(remark.accession)\n",
    "i2n = dict()\n",
    "sset = set()\n",
    "with open('tmp/sarg_raw.fa') as handle:\n",
    "    for record in SeqIO.parse(handle, 'fasta'):\n",
    "        if record.seq not in rep:\n",
    "            header = record.description.split(' >')[0].split(' ',1)[1].rsplit(' [')[0].split('MULTISPECIES: ')[-1]\n",
    "            gene = rev.get(header)\n",
    "            if gene is not None and gene != '' and gene != '*':\n",
    "                if record.id in ads:\n",
    "                    ids.add(record.id)\n",
    "                    i2n[record.id] = header\n",
    "                    record.id = 'SARG|' + gene.replace('@', '|') + '|' + record.id\n",
    "                    record.description = record.description.split(' ', 1)[-1].split(' >')[0]\n",
    "                    records.append(record)\n",
    "                    sset.add(gene)\n",
    "                    if '|' in gene:\n",
    "                        print(gene, 'header')\n",
    "\n",
    "with open('tmp/sarg_tmp.fa', 'w') as output_handle:\n",
    "    SeqIO.write(records, output_handle, 'fasta')\n",
    "\n",
    "remark['name'] = remark.accession.map(i2n).fillna('')\n",
    "remark['type'] = remark.name.map(rev).str.split('@').str.get(0).fillna('')\n",
    "remark['subtype'] = remark.name.map(rev).str.split('@').str.get(1).fillna('')\n",
    "remark[remark.accession.isin(ids)].groupby(['type', 'subtype', 'name', 'evidence', 'symbol', 'identifier'], as_index=False).size().rename({'size': 'cnt'}, axis=1).to_csv('misc/evidence.tsv', sep='\\t', index=False)"
   ]
  },
  {
   "cell_type": "code",
   "execution_count": 8,
   "id": "90d316d0-6f9a-442f-8530-a06ce552aabc",
   "metadata": {},
   "outputs": [
    {
     "data": {
      "text/plain": [
       "{\"aminoglycoside@aph(3'')*\",\n",
       " 'aminoglycoside@rmt*',\n",
       " 'beta-lactam@blaASDC',\n",
       " 'beta-lactam@blaCSR',\n",
       " 'beta-lactam@mec*',\n",
       " 'macrolide-lincosamide-streptogramin@erm*',\n",
       " 'macrolide-lincosamide-streptogramin@lsa*',\n",
       " 'macrolide-lincosamide-streptogramin@mph*',\n",
       " 'macrolide-lincosamide-streptogramin@msr*',\n",
       " 'macrolide-lincosamide-streptogramin@sal*',\n",
       " 'macrolide-lincosamide-streptogramin@vat*',\n",
       " 'macrolide-lincosamide-streptogramin@vga*',\n",
       " 'nitroimidazole@nim*',\n",
       " 'rifamycin@rph*',\n",
       " 'tetracycline@tet*',\n",
       " 'trimethoprim@dfr*'}"
      ]
     },
     "execution_count": 8,
     "metadata": {},
     "output_type": "execute_result"
    }
   ],
   "source": [
    "sset - tset"
   ]
  }
 ],
 "metadata": {
  "kernelspec": {
   "display_name": "Python 3 (ipykernel)",
   "language": "python",
   "name": "python3"
  },
  "language_info": {
   "codemirror_mode": {
    "name": "ipython",
    "version": 3
   },
   "file_extension": ".py",
   "mimetype": "text/x-python",
   "name": "python",
   "nbconvert_exporter": "python",
   "pygments_lexer": "ipython3",
   "version": "3.11.0"
  }
 },
 "nbformat": 4,
 "nbformat_minor": 5
}
