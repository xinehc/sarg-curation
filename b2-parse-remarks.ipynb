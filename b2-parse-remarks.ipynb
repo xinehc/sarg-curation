{
 "cells": [
  {
   "cell_type": "code",
   "execution_count": null,
   "id": "edbb960f-a8fa-4009-a49f-daff1750ee1f",
   "metadata": {},
   "outputs": [],
   "source": [
    "from Bio import SeqIO\n",
    "from collections import defaultdict\n",
    "import pandas as pd\n",
    "import re\n",
    "bxy = dict()\n",
    "with open('sarg2nr.fa') as handle:\n",
    "    for record in SeqIO.parse(handle, 'fasta'):\n",
    "        bxy[record.seq] = record.description.split(' >')[0]\n",
    "with open('sarg2env_nr.fa') as handle:\n",
    "    for record in SeqIO.parse(handle, 'fasta'):\n",
    "        if record.seq not in bxy:\n",
    "            bxy[record.seq] = record.description.split(' >')[0]\n",
    "\n",
    "res = []\n",
    "with open('init.fasta') as handle:\n",
    "    for record in SeqIO.parse(handle, 'fasta'):\n",
    "        nr = bxy.get(record.seq)\n",
    "        record.id = '|'.join(record.id.split('|')[:3] + [nr.split(' ')[0]])\n",
    "        record.description = nr.split(' ',1)[-1]\n",
    "        res.append(record)\n",
    "\n",
    "with open('sarg_ref.fasta', 'w') as output_handle:\n",
    "    SeqIO.write(res, output_handle, 'fasta')"
   ]
  },
  {
   "cell_type": "code",
   "execution_count": null,
   "id": "66c01237-17c8-4315-9aba-e20cc9ed017d",
   "metadata": {},
   "outputs": [],
   "source": [
    "%%bash\n",
    "md5sum sarg_ref.fasta"
   ]
  },
  {
   "cell_type": "code",
   "execution_count": null,
   "id": "1187b397-1ba2-4bf0-868c-6b710775d5af",
   "metadata": {},
   "outputs": [],
   "source": []
  },
  {
   "cell_type": "code",
   "execution_count": null,
   "id": "f8ae20d2-6dbf-4125-98cd-687525d8bd9c",
   "metadata": {},
   "outputs": [],
   "source": []
  },
  {
   "cell_type": "code",
   "execution_count": null,
   "id": "52529d20-ee12-4d08-80e9-6187ec4e8f99",
   "metadata": {},
   "outputs": [],
   "source": []
  },
  {
   "cell_type": "code",
   "execution_count": null,
   "id": "edc260e5-f206-4067-9fe1-1284d905290d",
   "metadata": {},
   "outputs": [],
   "source": []
  },
  {
   "cell_type": "code",
   "execution_count": null,
   "id": "9ed06445-c5a6-4285-bd4b-8f81a2a78d49",
   "metadata": {},
   "outputs": [],
   "source": []
  },
  {
   "cell_type": "code",
   "execution_count": null,
   "id": "270c0e5b-2d80-494e-8a0f-2e6f21d1f963",
   "metadata": {},
   "outputs": [],
   "source": [
    "rep = set()\n",
    "ref = defaultdict(set)\n",
    "rev = defaultdict(set)\n",
    "rep_ids = set()\n",
    "gene2family = dict()\n",
    "with open('sarg_ref.fasta') as handle:\n",
    "    for record in SeqIO.parse(handle, 'fasta'):\n",
    "        header = record.description.split(' >')[0].split(' ',1)[1].rsplit(' [')[0].split('MULTISPECIES: ')[-1]\n",
    "        ref[record.id.split('|')[2]].add(header)\n",
    "        rev[header].add(record.id.split('|')[2])\n",
    "        rep.add(record.seq)\n",
    "        rep_ids.add(record.id.split('|')[-1])\n",
    "        gene2family[record.id.split('|')[2]] = record.id.split('|')[1]"
   ]
  },
  {
   "cell_type": "code",
   "execution_count": null,
   "id": "e72114dc-5e9b-45f8-af8f-a0a3f903239f",
   "metadata": {},
   "outputs": [],
   "source": [
    "ids = set()\n",
    "with open('sarg_raw.fasta') as handle:\n",
    "    for record in SeqIO.parse(handle, 'fasta'):\n",
    "        if record.seq not in rep:\n",
    "            ids.add(record.id)"
   ]
  },
  {
   "cell_type": "code",
   "execution_count": null,
   "id": "db6af83b-d662-4ba6-b0da-22d1f9f11bbb",
   "metadata": {},
   "outputs": [],
   "source": [
    "remark = pd.read_table('remark.tsv', names = ['id', 'header', 'taxonomy', 'organisim', 'evidence', 'gs', 'source']).fillna('NA')\n",
    "remark = remark[remark.id.isin(ids)]\n",
    "idnset = set(remark[remark.evidence.str.contains('NA|Domain')].id)\n",
    "idnset.update(set(remark[(remark.evidence.str.contains('TIGR') | (remark.source.str.contains('PF'))) & (remark.gs == 'NA')].id))\n",
    "\n",
    "remark['accession'] = remark.evidence.str.split('.').str.get(0)\n",
    "latest = set(remark.sort_values(['accession', 'evidence'], ascending=False).groupby('accession', as_index=False).first().evidence)\n",
    "idnset.update(remark[~remark.evidence.isin(latest)].id.unique())\n",
    "\n",
    "remark = remark[~remark.id.isin(idnset)]\n",
    "remark['#'] = remark.groupby(['header', 'evidence']).transform('size')\n",
    "id2header = remark.set_index('id').header.to_dict()"
   ]
  },
  {
   "cell_type": "code",
   "execution_count": null,
   "id": "6f70cb62-ab40-4109-80a8-b25b85d853b6",
   "metadata": {},
   "outputs": [],
   "source": [
    "from collections import defaultdict\n",
    "rmk = remark[['header', 'evidence', 'gs', 'source', '#']].drop_duplicates()\n",
    "rmk['mapper'] = rmk.header.apply(lambda x: ' | '.join(sorted(rev.get(x, set()))))\n",
    "rmk['unique'] = (rmk.mapper.str.count('\\|') == 0) & (rmk.mapper!='')\n",
    "rmk['valid'] = rmk.apply(lambda x: re.sub('^bla|\\(|\\)', '', x.mapper.lower()) in re.sub('\\(|\\)', '', x.header.lower()) \n",
    "                         if len(x.mapper)>4 else x.mapper.lower() in x.header.lower(), axis=1)\n",
    "rmk.loc[rmk.header.str.contains('/'), 'valid'] = False\n",
    "\n",
    "import json\n",
    "with open('whitelist.json') as f:\n",
    "    wl = json.load(f)\n",
    "\n",
    "rmkk = rmk[~((rmk.unique) & (rmk.valid))].copy()\n",
    "rmkk['reviewed'] = rmkk.header.apply(lambda x: wl.get(x, {}).get('reviewed', ''))\n",
    "rmkk = rmkk.sort_values(['header', 'evidence', 'gs'])\n",
    "\n",
    "wl = defaultdict(dict)\n",
    "for _, i in rmkk.iterrows():\n",
    "    wl[i.header]['reviewed'] = i.reviewed\n",
    "    wl[i.header]['gene'] = i.mapper\n",
    "    if 'remark' not in wl[i.header]:\n",
    "        wl[i.header]['remark'] = []\n",
    "    wl[i.header]['remark'].append(' | '.join([i.evidence, i.gs, i.source, str(i['#'])]))\n",
    "\n",
    "wl = {x:y for x,y in wl.items() if x in set(rmkk.header)}\n",
    "with open('whitelist.json', 'w') as f:\n",
    "    json.dump(wl, f, sort_keys=True, indent=4)\n",
    "\n",
    "print(rmkk.header.nunique())\n",
    "reviewed = rmkk.set_index('header').reviewed.to_dict()"
   ]
  },
  {
   "cell_type": "code",
   "execution_count": null,
   "id": "c648d879-4d7f-403a-ac85-18b7d2bf70cb",
   "metadata": {
    "scrolled": true
   },
   "outputs": [],
   "source": [
    "for i,j in rmkk[(rmkk.reviewed == '') | (rmkk.reviewed == '*') | (rmkk.reviewed.str.contains(' '))].groupby(['header', 'mapper', 'reviewed']):\n",
    "    print(f'{i[0]}')\n",
    "    print(f'gene: {i[1]}')\n",
    "    print(f'reviewed: {i[2]}')\n",
    "\n",
    "    for _, k in j.iterrows():\n",
    "        print(k.evidence, k.gs, k.source, k['#'])\n",
    "\n",
    "    print('\\n')"
   ]
  },
  {
   "cell_type": "code",
   "execution_count": null,
   "id": "277199c3-7d0b-4489-95cb-ca6218a1f927",
   "metadata": {},
   "outputs": [],
   "source": []
  },
  {
   "cell_type": "code",
   "execution_count": null,
   "id": "47696312-fa75-42f7-8dbc-e2ae6a5be6a5",
   "metadata": {},
   "outputs": [],
   "source": []
  },
  {
   "cell_type": "code",
   "execution_count": null,
   "id": "f4b690bd-45ce-4295-bf0c-3c99f66a3b15",
   "metadata": {},
   "outputs": [],
   "source": []
  },
  {
   "cell_type": "code",
   "execution_count": null,
   "id": "39891324-571e-4bae-8ef2-8db167ea272e",
   "metadata": {},
   "outputs": [],
   "source": []
  },
  {
   "cell_type": "code",
   "execution_count": null,
   "id": "58f14cea-dd57-411f-83d4-6e292ce351fc",
   "metadata": {},
   "outputs": [],
   "source": []
  },
  {
   "cell_type": "code",
   "execution_count": null,
   "id": "9ef04e51-564b-4745-bd6f-021c2b664c8d",
   "metadata": {},
   "outputs": [],
   "source": [
    "## save\n",
    "gene2family.update(\n",
    "    {\n",
    "         \"aph(3'')*\": 'aminoglycoside',\n",
    "         'blaCIM': 'beta-lactam',\n",
    "         'blaDYB': 'beta-lactam',\n",
    "         'blaPNC': 'beta-lactam',\n",
    "         'dfr*': 'trimethoprim',\n",
    "         'erm*': 'macrolide-lincosamide-streptogramin',\n",
    "         'lsa*': 'macrolide-lincosamide-streptogramin',\n",
    "         'mec*': 'beta-lactam',\n",
    "         'mph*': 'macrolide-lincosamide-streptogramin',\n",
    "         'msr*': 'macrolide-lincosamide-streptogramin',\n",
    "         'nim*': 'nitroimidazole',\n",
    "         'rph*': 'rifamycin',\n",
    "         'sal*': 'macrolide-lincosamide-streptogramin',\n",
    "         'tet*': 'tetracycline',\n",
    "         'vat*': 'macrolide-lincosamide-streptogramin',\n",
    "         'vga*': 'macrolide-lincosamide-streptogramin',\n",
    "    }\n",
    ")\n",
    "mapper = rmk.set_index('header').mapper.to_dict()\n",
    "mapper.update(reviewed)"
   ]
  },
  {
   "cell_type": "code",
   "execution_count": null,
   "id": "69c4723c-9074-42bb-80af-1017a499f38d",
   "metadata": {
    "scrolled": true
   },
   "outputs": [],
   "source": [
    "records = []\n",
    "with open('sarg_raw.fasta') as handle:\n",
    "    for record in SeqIO.parse(handle, 'fasta'):\n",
    "        if record.seq not in rep:\n",
    "            gene = mapper.get(id2header.get(record.id))\n",
    "            if gene is not None and gene != '*':\n",
    "                record.id = 'SARG|' + gene2family.get(gene) + '|' + gene + '|' + record.id\n",
    "                record.description = record.description.split(' ', 1)[-1].split(' >')[0]\n",
    "                records.append(record)\n",
    "\n",
    "with open('sarg_ext.fasta', 'w') as output_handle:\n",
    "    SeqIO.write(records, output_handle, 'fasta')"
   ]
  },
  {
   "cell_type": "code",
   "execution_count": null,
   "id": "56cc29d4-3b50-4175-ab1b-66f644fc53b6",
   "metadata": {},
   "outputs": [],
   "source": []
  },
  {
   "cell_type": "code",
   "execution_count": null,
   "id": "91a2f2d3-1138-4232-a34f-5e73861e56ea",
   "metadata": {},
   "outputs": [],
   "source": []
  },
  {
   "cell_type": "code",
   "execution_count": null,
   "id": "638ba231-bd1a-4ba7-9ff1-36878f9d4330",
   "metadata": {},
   "outputs": [],
   "source": []
  },
  {
   "cell_type": "code",
   "execution_count": null,
   "id": "ced3267b-1844-4665-9c1a-f672373a0200",
   "metadata": {},
   "outputs": [],
   "source": []
  },
  {
   "cell_type": "code",
   "execution_count": null,
   "id": "2f5bfb73-e36d-4f03-b427-5c82a4a0ecb6",
   "metadata": {},
   "outputs": [],
   "source": []
  }
 ],
 "metadata": {
  "kernelspec": {
   "display_name": "Python 3 (ipykernel)",
   "language": "python",
   "name": "python3"
  },
  "language_info": {
   "codemirror_mode": {
    "name": "ipython",
    "version": 3
   },
   "file_extension": ".py",
   "mimetype": "text/x-python",
   "name": "python",
   "nbconvert_exporter": "python",
   "pygments_lexer": "ipython3",
   "version": "3.11.0"
  }
 },
 "nbformat": 4,
 "nbformat_minor": 5
}
