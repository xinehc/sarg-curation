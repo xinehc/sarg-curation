{
 "cells": [
  {
   "cell_type": "code",
   "execution_count": 1,
   "id": "f834050c-3477-4a73-a7b3-c1905f940086",
   "metadata": {},
   "outputs": [],
   "source": [
    "%%bash\n",
    "cat sarg_ref.fa tmp/sarg_tmp.fa | seqkit shuffle -s0 --quiet > tmp/sarg_full.fa"
   ]
  },
  {
   "cell_type": "code",
   "execution_count": 2,
   "id": "9d49f2d0-0da3-493e-acc2-366aa28bffc4",
   "metadata": {},
   "outputs": [],
   "source": [
    "# %%bash\n",
    "# diamond blastp \\\n",
    "#     -q tmp/sarg_tmp.fa \\\n",
    "#     -d sarg_ref.fa \\\n",
    "#     --out tmp/hit_ref.txt \\\n",
    "#     --outfmt 6 qseqid sseqid nident qlen slen pident qcovhsp scovhsp bitscore evalue \\\n",
    "#     --id 90 --subject-cover 95 --query-cover 95 \\\n",
    "#     -k 0 --threads 48 --no-self-hits --masking 0 --quiet\n",
    "\n",
    "# diamond blastp \\\n",
    "#     -q tmp/sarg_full.fa \\\n",
    "#     -d tmp/sarg_full.fa \\\n",
    "#     --out tmp/hit_full.txt \\\n",
    "#     --outfmt 6 qseqid sseqid nident qlen slen pident qcovhsp scovhsp bitscore evalue \\\n",
    "#     --id 90 --subject-cover 95 --query-cover 95 \\\n",
    "#     -k 0 --threads 48 --no-self-hits --masking 0 --quiet"
   ]
  },
  {
   "cell_type": "code",
   "execution_count": null,
   "id": "758ed06a-2d0c-41ac-ae5c-e9061a655fb2",
   "metadata": {},
   "outputs": [],
   "source": []
  },
  {
   "cell_type": "code",
   "execution_count": null,
   "id": "6278c7d6-b51b-448a-ad0e-67533188c288",
   "metadata": {},
   "outputs": [],
   "source": []
  },
  {
   "cell_type": "code",
   "execution_count": null,
   "id": "5de06cf0-3b93-425c-b0a5-057197ed76f6",
   "metadata": {},
   "outputs": [],
   "source": []
  },
  {
   "cell_type": "code",
   "execution_count": null,
   "id": "759c63f0-3c55-445f-8db2-fb9f6a4f9bd6",
   "metadata": {},
   "outputs": [],
   "source": []
  },
  {
   "cell_type": "code",
   "execution_count": null,
   "id": "943e470b-7c3f-4aa6-9e2c-1cbacd6e5fb3",
   "metadata": {},
   "outputs": [],
   "source": []
  },
  {
   "cell_type": "code",
   "execution_count": 3,
   "id": "150d7b0e-da00-4239-81b8-d87322408573",
   "metadata": {},
   "outputs": [],
   "source": [
    "import pandas as pd\n",
    "from tqdm import tqdm\n",
    "from Bio import SeqIO\n",
    "import glob"
   ]
  },
  {
   "cell_type": "code",
   "execution_count": 4,
   "id": "186c34a9-401f-4401-a7ed-97941eb4db44",
   "metadata": {},
   "outputs": [],
   "source": [
    "aset = set()\n",
    "with open('sarg_ref.fa') as handle:\n",
    "    for record in SeqIO.parse(handle, 'fasta'):\n",
    "        aset.add(record.id)\n",
    "\n",
    "qset = set()\n",
    "with open('tmp/hit_ref.txt') as f:\n",
    "    for line in f:\n",
    "        ls = line.rstrip().split('\\t')\n",
    "        if ls[0].split('|')[2] != ls[1].split('|')[2] and round(float(ls[5])) >= 95:\n",
    "            qset.add(ls[0])\n",
    "\n",
    "r = []\n",
    "with open('tmp/hit_full.txt') as f:\n",
    "    for line in f:\n",
    "        ls = line.rstrip().split('\\t')\n",
    "        if ls[0].split('|')[2] != ls[1].split('|')[2] and round(float(ls[5])) >= 95:\n",
    "            if ls[0] not in aset and ls[1] not in aset:\n",
    "                if ls[0] not in qset and ls[1] not in qset:\n",
    "                    r.append(ls)"
   ]
  },
  {
   "cell_type": "code",
   "execution_count": 5,
   "id": "83c7a601-b7f8-4498-a60d-96de7b1a00b5",
   "metadata": {},
   "outputs": [],
   "source": [
    "rr = pd.DataFrame(r)\n",
    "rr['left'] = rr[0].str.split('|').str.get(2)\n",
    "rr['right'] = rr[1].str.split('|').str.get(2)"
   ]
  },
  {
   "cell_type": "code",
   "execution_count": 6,
   "id": "505fb66d-3d98-4961-a659-65a577d79792",
   "metadata": {},
   "outputs": [],
   "source": [
    "ngen = {\"tolC\", \"bacA\", \"blaMOX\", \"fosB\", \"kpnF\", \"vexH\"}\n",
    "nset = set(rr[((rr['left'].isin(ngen)) | (rr['left'].str.contains('\\\\*')))][0]) | set(rr[((rr['right'].isin(ngen)) | (rr['right'].str.contains('\\\\*')))][1])"
   ]
  },
  {
   "cell_type": "code",
   "execution_count": 7,
   "id": "d92a87b7-fa1f-4c81-b21d-98d25be31cb7",
   "metadata": {},
   "outputs": [
    {
     "data": {
      "text/plain": [
       "Series([], dtype: int64)"
      ]
     },
     "execution_count": 7,
     "metadata": {},
     "output_type": "execute_result"
    }
   ],
   "source": [
    "rm = rr[(~rr[0].isin(nset)) & (~rr[1].isin(nset))]\n",
    "rm.groupby(['left', 'right']).size()"
   ]
  },
  {
   "cell_type": "code",
   "execution_count": 8,
   "id": "e583dc98-6fdd-4ebf-886b-623f36d7f06a",
   "metadata": {},
   "outputs": [],
   "source": [
    "for gene in sorted(rm.left.unique()):\n",
    "    print(gene, len([x for x in (set(rm[0]) | set(rm[1])) if gene in x]))"
   ]
  },
  {
   "cell_type": "code",
   "execution_count": 9,
   "id": "795d9027-1e73-4651-b89e-aa08692070e5",
   "metadata": {},
   "outputs": [],
   "source": [
    "assert len(rm) == 0, 'Make sure all cross-mapped cases are resolved.'\n",
    "qset.update(nset)"
   ]
  },
  {
   "cell_type": "code",
   "execution_count": null,
   "id": "9d71cedd-c67f-4173-b1a1-28116c7ba23c",
   "metadata": {},
   "outputs": [],
   "source": []
  },
  {
   "cell_type": "code",
   "execution_count": null,
   "id": "8b6eedab-5afd-4d36-a394-8a98936069d2",
   "metadata": {},
   "outputs": [],
   "source": []
  },
  {
   "cell_type": "code",
   "execution_count": null,
   "id": "ec0c593b-30c4-4e0d-82cd-1612a3495a35",
   "metadata": {},
   "outputs": [],
   "source": []
  },
  {
   "cell_type": "code",
   "execution_count": null,
   "id": "e52e049c-af4d-4322-9ad2-1a6542e89869",
   "metadata": {},
   "outputs": [],
   "source": []
  },
  {
   "cell_type": "code",
   "execution_count": 10,
   "id": "2be9cf01-b4a0-4bd8-9338-e39125fc2f99",
   "metadata": {},
   "outputs": [],
   "source": [
    "records = []\n",
    "with open('tmp/sarg_tmp.fa') as handle:\n",
    "    for record in SeqIO.parse(handle, 'fasta'):\n",
    "        if record.id not in qset:\n",
    "            records.append(record)\n",
    "\n",
    "with open('tmp/sarg_cleaned.fa', 'w') as output_handle:\n",
    "    SeqIO.write(records, output_handle, 'fasta')"
   ]
  },
  {
   "cell_type": "code",
   "execution_count": null,
   "id": "74349401-8c98-42ec-9fc8-0d9e0d97af9a",
   "metadata": {},
   "outputs": [],
   "source": []
  },
  {
   "cell_type": "code",
   "execution_count": null,
   "id": "ff11d640-104a-4274-9f25-4b4faa8af424",
   "metadata": {},
   "outputs": [],
   "source": []
  },
  {
   "cell_type": "code",
   "execution_count": null,
   "id": "623240ba-7f5a-4ed7-a121-a9f9d3f2c2aa",
   "metadata": {},
   "outputs": [],
   "source": []
  },
  {
   "cell_type": "code",
   "execution_count": null,
   "id": "a60bd19d-df9c-4152-a986-b36a429a51dc",
   "metadata": {},
   "outputs": [],
   "source": []
  },
  {
   "cell_type": "code",
   "execution_count": null,
   "id": "a6298766-7451-4fd3-8a5b-04682d038cd4",
   "metadata": {},
   "outputs": [],
   "source": []
  },
  {
   "cell_type": "code",
   "execution_count": 11,
   "id": "095dd4dc-37c9-4e6f-8baf-20e2f8eca09d",
   "metadata": {},
   "outputs": [],
   "source": [
    "%%bash\n",
    "mmseqs easy-cluster tmp/sarg_cleaned.fa tmp/sarg_ext tmp/TMP \\\n",
    "    --cov-mode 0 -c 0.95 --min-seq-id 0.95 -s 7.5 --cluster-reassign -v 0  > /dev/null 2>&1\n",
    "seqkit sort -s --quiet tmp/sarg_ext_rep_seq.fasta -o sarg_ext.fa\n",
    "cat sarg_ref.fa sarg_ext.fa | seqkit sort -s --quiet > tmp/sarg_clustered.fa"
   ]
  },
  {
   "cell_type": "code",
   "execution_count": null,
   "id": "94c8eddb-e9fb-4f54-b79a-e1a7e4ef497b",
   "metadata": {},
   "outputs": [],
   "source": []
  },
  {
   "cell_type": "code",
   "execution_count": null,
   "id": "026d6f85-3f4d-4298-b8b4-23bd2288fb56",
   "metadata": {},
   "outputs": [],
   "source": []
  },
  {
   "cell_type": "code",
   "execution_count": null,
   "id": "0bb968e7-cb17-4776-90f3-c5908bff0651",
   "metadata": {},
   "outputs": [],
   "source": []
  },
  {
   "cell_type": "code",
   "execution_count": null,
   "id": "f04a3ca6-52e5-4fbf-b458-338cffd28437",
   "metadata": {},
   "outputs": [],
   "source": []
  },
  {
   "cell_type": "code",
   "execution_count": null,
   "id": "acfa6a97-3780-4c60-a459-81a14751dfaf",
   "metadata": {},
   "outputs": [],
   "source": []
  },
  {
   "cell_type": "code",
   "execution_count": 12,
   "id": "af11754c-9267-4006-93ca-27f4bb21918a",
   "metadata": {},
   "outputs": [],
   "source": [
    "id, id_ref, id_ext = [], [], []\n",
    "row = []\n",
    "with open('tmp/sarg_clustered.fa') as handle:\n",
    "    for record in SeqIO.parse(handle, 'fasta'):\n",
    "        id.append(record.id.split('|')[1:3])\n",
    "        row.append(record.id.split('|', 3)[1:3] + [record.description.split(' ',1)[-1].split('MULTISPECIES: ')[-1].split(' [')[0]])\n",
    "\n",
    "with open('sarg_ref.fa') as handle:\n",
    "    for record in SeqIO.parse(handle, 'fasta'):\n",
    "        id_ref.append(record.id.split('|')[1:3])\n",
    "\n",
    "with open('sarg_ext.fa') as handle:\n",
    "    for record in SeqIO.parse(handle, 'fasta'):\n",
    "        id_ext.append(record.id.split('|')[1:3])\n",
    "\n",
    "pd.DataFrame(id).groupby([0,1]).size().to_csv('misc/sarg.txt', sep='\\t', header=None)\n",
    "pd.DataFrame(id_ref).groupby([0,1]).size().to_csv('misc/sarg_ref.txt', sep='\\t', header=None)\n",
    "pd.DataFrame(id_ext).groupby([0,1]).size().to_csv('misc/sarg_ext.txt', sep='\\t', header=None)"
   ]
  },
  {
   "cell_type": "code",
   "execution_count": 13,
   "id": "3b1ceabe-04bf-40d1-84e6-c7e09f8ad0af",
   "metadata": {},
   "outputs": [],
   "source": [
    "row = pd.DataFrame(row)\n",
    "mg = row[row[0]=='multidrug'][[1,2]].drop_duplicates()\n",
    "MFS = set(mg[mg[2].str.contains('MFS')][1]) | {'abcA', 'jefA', 'stp'}\n",
    "ABC = set(mg[mg[2].str.contains('ABC')][1]) | {'satA', 'satB', 'horA'}\n",
    "SMR = set(mg[mg[2].str.contains('SMR')][1])\n",
    "MATE = set(mg[mg[2].str.contains('MATE')][1])\n",
    "RND1 = set(mg[mg[1].str.contains('acr|mdt|tolC|hasF|vpoC')][1])\n",
    "RND2 = set(mg[~mg[1].isin(MFS|ABC|SMR|MATE|RND1)][1])\n",
    "\n",
    "records = []\n",
    "with open('tmp/sarg_clustered.fa') as handle:\n",
    "    for record in SeqIO.parse(handle, 'fasta'):\n",
    "        id = record.id.split('|')\n",
    "        if id[2] in MFS:\n",
    "            id[1] = 'multidrug@MFS'\n",
    "        elif id[2] in ABC:\n",
    "            id[1] = 'multidrug@ABC'\n",
    "        elif id[2] in SMR:\n",
    "            id[1] = 'multidrug@SMR'\n",
    "        elif id[2] in MATE:\n",
    "            id[1] = 'multidrug@MATE'\n",
    "        elif id[2] in RND1:\n",
    "            id[1] = 'multidrug@RND-1'\n",
    "        elif id[2] in RND2:\n",
    "            id[1] = 'multidrug@RND-2'\n",
    "        else:\n",
    "            id = id\n",
    "        record.id = '|'.join(id)\n",
    "        record.description = record.description.split(' ', 1)[-1]\n",
    "        records.append(record)\n",
    "\n",
    "with open('sarg.fa', 'w') as output_handle:\n",
    "    SeqIO.write(records, output_handle, 'fasta')"
   ]
  }
 ],
 "metadata": {
  "kernelspec": {
   "display_name": "Python 3 (ipykernel)",
   "language": "python",
   "name": "python3"
  },
  "language_info": {
   "codemirror_mode": {
    "name": "ipython",
    "version": 3
   },
   "file_extension": ".py",
   "mimetype": "text/x-python",
   "name": "python",
   "nbconvert_exporter": "python",
   "pygments_lexer": "ipython3",
   "version": "3.12.3"
  }
 },
 "nbformat": 4,
 "nbformat_minor": 5
}
