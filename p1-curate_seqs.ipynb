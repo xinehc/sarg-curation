{
 "cells": [
  {
   "cell_type": "code",
   "execution_count": null,
   "id": "cb9351c0-7aab-4094-a643-f370f5ac2c5a",
   "metadata": {},
   "outputs": [],
   "source": [
    "%%bash\n",
    "seqkit sort -s reference/reference.fasta -o reference/reference.fasta"
   ]
  },
  {
   "cell_type": "code",
   "execution_count": null,
   "id": "280f8b3d-5abe-45f1-bc61-86bd7c738efe",
   "metadata": {},
   "outputs": [],
   "source": [
    "import json5\n",
    "from collections import defaultdict\n",
    "import glob\n",
    "import pandas as pd\n",
    "import regex as re\n",
    "from Bio import SeqIO\n",
    "import subprocess\n",
    "\n",
    "added = {}\n",
    "discarded = set()\n",
    "replaced_seqs = dict()\n",
    "replaced_genes = dict()\n",
    "with open('sarg.json', 'r') as f:\n",
    "    for i,j in json5.load(f).items():\n",
    "        if i!='discarded':\n",
    "            for k,l in j.items():\n",
    "                if k == 'discarded':\n",
    "                    discarded.update(l)\n",
    "                if k == 'changed':\n",
    "                    replaced_seqs.update({z:x for x,y in l.items() for z in y if isinstance(y, list)})\n",
    "                    replaced_genes.update({x:y for x,y in l.items() if not isinstance(y, list)})\n",
    "                if k == 'added':\n",
    "                    for m,n in l.items():\n",
    "                        added[m] = 'REF|' + i + '|' + n + '|' + m\n",
    "        else:\n",
    "            discarded.update(j)\n",
    "\n",
    "records = []\n",
    "dups = set()\n",
    "with open('reference/sequence.fasta') as f:\n",
    "    for record in SeqIO.parse(f, 'fasta'):\n",
    "        if record.id not in discarded:\n",
    "            if record.seq not in dups:\n",
    "                dups.add(record.seq)\n",
    "                records.append(record)"
   ]
  },
  {
   "cell_type": "code",
   "execution_count": null,
   "id": "8135ec26-4b65-4dfc-bfce-06f63b122be5",
   "metadata": {},
   "outputs": [],
   "source": [
    "id2refseq = dict()\n",
    "with open('reference/reference.fasta') as handle:\n",
    "    for record in SeqIO.parse(handle, 'fasta'):\n",
    "        if record.seq not in dups:\n",
    "            dups.add(record.seq)\n",
    "            \n",
    "            if record.id in added:\n",
    "                record.id = added.get(record.id)\n",
    "                records.append(record)\n",
    "            else:\n",
    "                if 'GN=' in record.description:\n",
    "                    gene = record.description.split(' GN=')[-1].split(' ')[0]\n",
    "                else:\n",
    "                    gene = record.description.split(' [')[0].split(' (')[0].split(' ')[-1]\n",
    "                    gene = gene[0].lower() + gene[1:]\n",
    "    \n",
    "                record.id = 'REF|' + added.get(gene, 'NA') + '|' + gene + '|' + record.id\n",
    "                print(f'unused: {record.id}')"
   ]
  },
  {
   "cell_type": "code",
   "execution_count": null,
   "id": "eeb82133-7c13-48fd-8d16-550d781425b1",
   "metadata": {},
   "outputs": [],
   "source": [
    "records_renamed = []\n",
    "for record in records:\n",
    "    if 'REF|' in record.id:\n",
    "        record.id = '@'.join(record.id.split('|')[1:3])\n",
    "    elif 'NCBI|' in record.id or 'CARD|' in record.id:\n",
    "        record.description = record.description.split(' ', 1)[-1]\n",
    "        if record.id in replaced_seqs:\n",
    "            record.id = replaced_seqs.get(record.id)\n",
    "        else:\n",
    "            if '|stress:biocide|' in record.name:\n",
    "                record.id = 'biocide@' + record.id.split('|')[3]\n",
    "            else:\n",
    "                record.id = '@'.join(record.id.split('|')[2:4])\n",
    "    else:\n",
    "        continue\n",
    "\n",
    "    gene, id = record.id.split('@')[-1], record.id\n",
    "    for k, v in replaced_genes.items():\n",
    "        id = re.sub(k, v, id)\n",
    "\n",
    "    if \"sp|\" in record.name:\n",
    "        name = record.name.split('@')[-1].split('|')[-2]\n",
    "    else:\n",
    "        name = record.name.split('@')[-1].split('|')[-1]\n",
    "\n",
    "    record.id = f\"SARG|{id.replace('@', '|')}|{name}\"\n",
    "    record.description = record.description.split(' >')[0]    \n",
    "    if id.split('@')[-1] not in discarded and gene not in discarded:\n",
    "        records_renamed.append(record)"
   ]
  },
  {
   "cell_type": "code",
   "execution_count": null,
   "id": "6e9fe45d-c2a2-4f35-bc05-d1f0632a850b",
   "metadata": {},
   "outputs": [],
   "source": [
    "with open('init.fasta', 'w') as output_handle:\n",
    "    SeqIO.write(records_renamed, output_handle, 'fasta')"
   ]
  },
  {
   "cell_type": "code",
   "execution_count": null,
   "id": "49341873-13d1-4a49-b56d-3961303e1e6d",
   "metadata": {},
   "outputs": [],
   "source": [
    "%%bash\n",
    "seqkit sort -s init.fasta -o init.fasta"
   ]
  },
  {
   "cell_type": "code",
   "execution_count": null,
   "id": "757da0f7-198f-4a5a-ba40-e11c614c1c1b",
   "metadata": {},
   "outputs": [],
   "source": []
  },
  {
   "cell_type": "code",
   "execution_count": null,
   "id": "ced14086-9a0d-4097-9ee2-7bb00a350953",
   "metadata": {},
   "outputs": [],
   "source": []
  },
  {
   "cell_type": "code",
   "execution_count": null,
   "id": "cde2c379-d451-47e0-8014-738c7a735107",
   "metadata": {},
   "outputs": [],
   "source": []
  },
  {
   "cell_type": "code",
   "execution_count": null,
   "id": "7b056963-c335-4409-aae9-9e1368b15b73",
   "metadata": {},
   "outputs": [],
   "source": []
  },
  {
   "cell_type": "code",
   "execution_count": null,
   "id": "b3db4751-a147-4269-8a05-8e9bab139e1c",
   "metadata": {},
   "outputs": [],
   "source": []
  }
 ],
 "metadata": {
  "kernelspec": {
   "display_name": "Python 3 (ipykernel)",
   "language": "python",
   "name": "python3"
  },
  "language_info": {
   "codemirror_mode": {
    "name": "ipython",
    "version": 3
   },
   "file_extension": ".py",
   "mimetype": "text/x-python",
   "name": "python",
   "nbconvert_exporter": "python",
   "pygments_lexer": "ipython3",
   "version": "3.11.0"
  }
 },
 "nbformat": 4,
 "nbformat_minor": 5
}
