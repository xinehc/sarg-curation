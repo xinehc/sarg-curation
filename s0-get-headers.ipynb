{
 "cells": [
  {
   "cell_type": "code",
   "execution_count": null,
   "id": "a10a6552-d3e7-4503-8a96-e6a6c9b9256e",
   "metadata": {},
   "outputs": [],
   "source": [
    "# %%bash\n",
    "# for folder in env_nr nr refseq_protein\n",
    "# do\n",
    "#     curl ftp://ftp.ncbi.nlm.nih.gov/blast/db/ \\\n",
    "#         | grep '[^ ]*.gz$' -o \\\n",
    "#         | grep ^$folder \\\n",
    "#         | xargs -P 32 -I {} wget -qN --show-progress https://ftp.ncbi.nlm.nih.gov/blast/db/{} -P protein/$folder\n",
    "\n",
    "#     ## decompress all files\n",
    "#     for file in protein/$folder/*.tar.gz; do tar -xvf $file -C protein/$folder; done\n",
    "#     rm -rf protein/$folder/*.tar.gz\n",
    "# done\n",
    "\n",
    "# blastdbcmd -db protein/env_nr/env_nr -entry all > env_nr.full.fa\n",
    "# blastdbcmd -db protein/nr/nr -entry all > nr.full.fa\n",
    "# blastdbcmd -db protein/refseq_protein/refseq_protein -entry all > refseq_protein.full.fa\n",
    "# diamond makedb --in refseq_protein.full.fa --db refseq_protein\n",
    "# seqkit split2 -p 20 refseq_protein.full.fa\n",
    "# rm -rf protein"
   ]
  },
  {
   "cell_type": "code",
   "execution_count": null,
   "id": "266a963e-b336-4413-b270-296b117fdd9c",
   "metadata": {},
   "outputs": [],
   "source": []
  },
  {
   "cell_type": "code",
   "execution_count": null,
   "id": "6560cf3f-5393-4938-b4bb-af6b9cd60bf6",
   "metadata": {},
   "outputs": [],
   "source": []
  },
  {
   "cell_type": "code",
   "execution_count": null,
   "id": "aa343210-dea9-450d-9b0e-e06bd43b6279",
   "metadata": {},
   "outputs": [],
   "source": []
  },
  {
   "cell_type": "code",
   "execution_count": null,
   "id": "1a8cd27c-6432-42f4-86ca-a67683c65824",
   "metadata": {},
   "outputs": [],
   "source": []
  },
  {
   "cell_type": "code",
   "execution_count": null,
   "id": "d9bf1384-335f-445d-aab6-1ed57a3aba6f",
   "metadata": {},
   "outputs": [],
   "source": []
  },
  {
   "cell_type": "code",
   "execution_count": null,
   "id": "48f2b38a-ca9f-4a37-80b7-2cd9991a415c",
   "metadata": {},
   "outputs": [],
   "source": [
    "from Bio import SeqIO\n",
    "\n",
    "aset = set()\n",
    "with open('init.fasta') as handle:\n",
    "    for record in SeqIO.parse(handle, 'fasta'):\n",
    "        aset.add(record.seq.upper())\n",
    "a = []\n",
    "cnt = 0\n",
    "with open('env_nr.full.fa') as handle:\n",
    "    for record in SeqIO.parse(handle, 'fasta'):\n",
    "        if record.seq in aset:\n",
    "            a.append(record)\n",
    "            print(record.id, cnt)\n",
    "            cnt += 1\n",
    "\n",
    "with open('sarg2env_nr.fa', 'w') as output_handle:\n",
    "    SeqIO.write(a, output_handle, 'fasta')"
   ]
  },
  {
   "cell_type": "code",
   "execution_count": null,
   "id": "f8c82ba3-de7d-4b19-b686-b98640cb289b",
   "metadata": {
    "scrolled": true
   },
   "outputs": [],
   "source": [
    "from Bio import SeqIO\n",
    "\n",
    "aset = set()\n",
    "with open('init.fasta') as handle:\n",
    "    for record in SeqIO.parse(handle, 'fasta'):\n",
    "        aset.add(record.seq.upper())\n",
    "a = []\n",
    "cnt = 0\n",
    "with open('nr.full.fa') as handle:\n",
    "    for record in SeqIO.parse(handle, 'fasta'):\n",
    "        if record.seq in aset:\n",
    "            a.append(record)\n",
    "            print(record.id, cnt)\n",
    "            cnt += 1\n",
    "\n",
    "with open('sarg2nr.fa', 'w') as output_handle:\n",
    "    SeqIO.write(a, output_handle, 'fasta')"
   ]
  },
  {
   "cell_type": "code",
   "execution_count": null,
   "id": "0b575624-83e2-4b70-b0a5-9473a68e9353",
   "metadata": {},
   "outputs": [],
   "source": []
  },
  {
   "cell_type": "code",
   "execution_count": null,
   "id": "53ae07fd-5a84-48a5-b733-2ff542b24abb",
   "metadata": {},
   "outputs": [],
   "source": []
  },
  {
   "cell_type": "code",
   "execution_count": null,
   "id": "0eeb409a-12bf-471a-b537-37f9837f02e9",
   "metadata": {},
   "outputs": [],
   "source": []
  },
  {
   "cell_type": "code",
   "execution_count": null,
   "id": "94df4ade-35e5-491e-858b-9406dd0abfb6",
   "metadata": {},
   "outputs": [],
   "source": []
  },
  {
   "cell_type": "code",
   "execution_count": null,
   "id": "c08b06bc-cbb8-477a-acb1-b062c51668e5",
   "metadata": {},
   "outputs": [],
   "source": []
  }
 ],
 "metadata": {
  "kernelspec": {
   "display_name": "Python 3 (ipykernel)",
   "language": "python",
   "name": "python3"
  },
  "language_info": {
   "codemirror_mode": {
    "name": "ipython",
    "version": 3
   },
   "file_extension": ".py",
   "mimetype": "text/x-python",
   "name": "python",
   "nbconvert_exporter": "python",
   "pygments_lexer": "ipython3",
   "version": "3.11.0"
  }
 },
 "nbformat": 4,
 "nbformat_minor": 5
}
