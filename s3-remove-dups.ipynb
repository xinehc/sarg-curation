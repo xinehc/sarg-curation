{
 "cells": [
  {
   "cell_type": "code",
   "execution_count": null,
   "id": "f834050c-3477-4a73-a7b3-c1905f940086",
   "metadata": {},
   "outputs": [],
   "source": [
    "%%bash\n",
    "cat sarg_ext.fasta sarg_ref.fasta | seqkit shuffle -s0 > sarg_full.fasta"
   ]
  },
  {
   "cell_type": "code",
   "execution_count": null,
   "id": "d6b873a2-a7d9-4f93-b3b7-ddd644562731",
   "metadata": {},
   "outputs": [],
   "source": [
    "from Bio import SeqIO\n",
    "a, b = [], []\n",
    "with open('sarg_full.fasta') as handle:\n",
    "    for record in SeqIO.parse(handle, 'fasta'):\n",
    "        if '*' in record.id:\n",
    "            a.append(record)\n",
    "        else:\n",
    "            b.append(record)\n",
    "\n",
    "with open('sarg_full_a.fasta', 'w') as output_handle:\n",
    "    SeqIO.write(a, output_handle, 'fasta')\n",
    "\n",
    "with open('sarg_full_b.fasta', 'w') as output_handle:\n",
    "    SeqIO.write(b, output_handle, 'fasta')"
   ]
  },
  {
   "cell_type": "code",
   "execution_count": null,
   "id": "9e0f1f1f-1012-412a-8f9b-4c4d387734fc",
   "metadata": {},
   "outputs": [],
   "source": [
    "# %%bash\n",
    "# diamond blastp -q sarg_full_a.fasta \\\n",
    "#     -d sarg_full_b.fasta --out self_alignment/cross.txt \\\n",
    "#     --outfmt 6 qseqid sseqid nident qlen slen pident qcovhsp scovhsp bitscore evalue \\\n",
    "#     --id 90 --subject-cover 90 --query-cover 90 \\\n",
    "#     -k 0 --threads 48 --no-self-hits --masking 0"
   ]
  },
  {
   "cell_type": "code",
   "execution_count": null,
   "id": "cd516c66-5516-41ac-a2aa-0c0951dd7944",
   "metadata": {},
   "outputs": [],
   "source": []
  },
  {
   "cell_type": "code",
   "execution_count": null,
   "id": "98de273c-ed3f-4a13-b667-43edc506018a",
   "metadata": {},
   "outputs": [],
   "source": []
  },
  {
   "cell_type": "code",
   "execution_count": null,
   "id": "ef5b6eea-9cb8-4952-88d4-d2b64a930093",
   "metadata": {},
   "outputs": [],
   "source": []
  },
  {
   "cell_type": "code",
   "execution_count": null,
   "id": "e20ed944-29aa-4be9-af9d-c979cd609b77",
   "metadata": {},
   "outputs": [],
   "source": []
  },
  {
   "cell_type": "code",
   "execution_count": null,
   "id": "2fcc3b97-3768-4cd0-91cd-0912a8340be9",
   "metadata": {},
   "outputs": [],
   "source": []
  },
  {
   "cell_type": "code",
   "execution_count": null,
   "id": "ac4e28b0-cec7-418d-9021-2bdda32a7239",
   "metadata": {},
   "outputs": [],
   "source": [
    "# seqkit split2 -p 10 --force sarg_full.fasta \n",
    "\n",
    "# mkdir -p self_alignment\n",
    "# for file in sarg_full.fasta.split/*.fasta\n",
    "# do\n",
    "#     filename=${file%.fasta}\n",
    "#     filename=${filename##*/}\n",
    "#     diamond blastp -q $file \\\n",
    "#         -d sarg_full.fasta --out self_alignment/$filename.txt \\\n",
    "#         --outfmt 6 qseqid sseqid nident qlen slen pident qcovhsp scovhsp bitscore evalue \\\n",
    "#         --id 95 --subject-cover 95 --query-cover 95 \\\n",
    "#         -k 0 --threads 48 --no-self-hits --masking 0\n",
    "# done"
   ]
  },
  {
   "cell_type": "code",
   "execution_count": null,
   "id": "3bc6fb3e-00a5-4059-8ae8-77f040776c38",
   "metadata": {},
   "outputs": [],
   "source": [
    "import pandas as pd\n",
    "from tqdm import tqdm\n",
    "from Bio import SeqIO\n",
    "import glob\n",
    "r = []\n",
    "\n",
    "for file in tqdm(glob.glob('self_alignment/sarg*.txt')):\n",
    "    with open(file) as f:\n",
    "        for line in f:\n",
    "            ls = line.rstrip().split('\\t')\n",
    "            if ls[0].split('|')[2] != ls[1].split('|')[2]:\n",
    "                r.append(ls)"
   ]
  },
  {
   "cell_type": "code",
   "execution_count": null,
   "id": "83c7a601-b7f8-4498-a60d-96de7b1a00b5",
   "metadata": {},
   "outputs": [],
   "source": [
    "rr = pd.DataFrame(r)\n",
    "rr['left'] = rr[0].str.split('|').str.get(2)\n",
    "rr['right'] = rr[1].str.split('|').str.get(2)"
   ]
  },
  {
   "cell_type": "code",
   "execution_count": null,
   "id": "ae1a43b4-0a9c-4732-bb90-2898a475f271",
   "metadata": {},
   "outputs": [],
   "source": [
    "ngene = {'mdtI', 'mdtJ', 'tolC', 'mexC', 'blaSHV', 'blaPLA', 'blaMOX', 'blaACT', 'bacA', 'fosB', 'vexH'}\n",
    "nset = set(rr[((rr['left'].isin(ngene)) | (rr['left'].str.contains('\\*')))][0]) | set(rr[((rr['right'].isin(ngene)) | (rr['right'].str.contains('\\*')))][1])"
   ]
  },
  {
   "cell_type": "code",
   "execution_count": null,
   "id": "d92a87b7-fa1f-4c81-b21d-98d25be31cb7",
   "metadata": {},
   "outputs": [],
   "source": [
    "rrr = rr[(~rr[0].isin(nset)) & (~rr[1].isin(nset))]\n",
    "rrr.groupby(['left', 'right']).size()"
   ]
  },
  {
   "cell_type": "code",
   "execution_count": null,
   "id": "e583dc98-6fdd-4ebf-886b-623f36d7f06a",
   "metadata": {},
   "outputs": [],
   "source": [
    "for gene in sorted(rrr.left.unique()):\n",
    "    print(gene, len([x for x in (set(rrr[0]) | set(rrr[1])) if gene in x]))"
   ]
  },
  {
   "cell_type": "code",
   "execution_count": null,
   "id": "3c6b909f-e909-441e-ae46-70797c852a50",
   "metadata": {},
   "outputs": [],
   "source": [
    "nset.update(set(pd.read_table('self_alignment/cross.txt', header=None)[0]))"
   ]
  },
  {
   "cell_type": "code",
   "execution_count": null,
   "id": "25d30a75-9eac-456f-a01c-aa5ade3249e3",
   "metadata": {},
   "outputs": [],
   "source": []
  },
  {
   "cell_type": "code",
   "execution_count": null,
   "id": "16df6bc9-6254-4584-84f0-e58fab5fde72",
   "metadata": {},
   "outputs": [],
   "source": []
  },
  {
   "cell_type": "code",
   "execution_count": null,
   "id": "795d9027-1e73-4651-b89e-aa08692070e5",
   "metadata": {},
   "outputs": [],
   "source": []
  },
  {
   "cell_type": "code",
   "execution_count": null,
   "id": "9d71cedd-c67f-4173-b1a1-28116c7ba23c",
   "metadata": {},
   "outputs": [],
   "source": []
  },
  {
   "cell_type": "code",
   "execution_count": null,
   "id": "8b6eedab-5afd-4d36-a394-8a98936069d2",
   "metadata": {},
   "outputs": [],
   "source": []
  },
  {
   "cell_type": "code",
   "execution_count": null,
   "id": "2be9cf01-b4a0-4bd8-9338-e39125fc2f99",
   "metadata": {},
   "outputs": [],
   "source": [
    "records = []\n",
    "id_ref, id_ext = [], []\n",
    "with open('sarg_ref.fasta') as handle:\n",
    "    for record in SeqIO.parse(handle, 'fasta'):\n",
    "        if record.id not in nset:\n",
    "            records.append(record)\n",
    "            id_ref.append(record.id.split('|')[1:3])\n",
    "\n",
    "with open('sarg_ref_clean.fasta', 'w') as output_handle:\n",
    "    SeqIO.write(records, output_handle, 'fasta')\n",
    "\n",
    "records = []\n",
    "with open('sarg_ext.fasta') as handle:\n",
    "    for record in SeqIO.parse(handle, 'fasta'):\n",
    "        if record.id not in nset:\n",
    "            records.append(record)\n",
    "            id_ext.append(record.id.split('|')[1:3])\n",
    "\n",
    "with open('sarg_ext_clean.fasta', 'w') as output_handle:\n",
    "    SeqIO.write(records, output_handle, 'fasta')\n",
    "\n",
    "pd.DataFrame(id_ref).groupby([0,1]).size().to_csv('sarg_ref.txt', sep='\\t', header=None)\n",
    "pd.DataFrame(id_ext).groupby([0,1]).size().to_csv('sarg_ext.txt', sep='\\t', header=None)"
   ]
  },
  {
   "cell_type": "code",
   "execution_count": null,
   "id": "74349401-8c98-42ec-9fc8-0d9e0d97af9a",
   "metadata": {},
   "outputs": [],
   "source": []
  },
  {
   "cell_type": "code",
   "execution_count": null,
   "id": "ff11d640-104a-4274-9f25-4b4faa8af424",
   "metadata": {},
   "outputs": [],
   "source": []
  },
  {
   "cell_type": "code",
   "execution_count": null,
   "id": "623240ba-7f5a-4ed7-a121-a9f9d3f2c2aa",
   "metadata": {},
   "outputs": [],
   "source": []
  },
  {
   "cell_type": "code",
   "execution_count": null,
   "id": "a60bd19d-df9c-4152-a986-b36a429a51dc",
   "metadata": {},
   "outputs": [],
   "source": []
  },
  {
   "cell_type": "code",
   "execution_count": null,
   "id": "a6298766-7451-4fd3-8a5b-04682d038cd4",
   "metadata": {},
   "outputs": [],
   "source": []
  },
  {
   "cell_type": "code",
   "execution_count": null,
   "id": "095dd4dc-37c9-4e6f-8baf-20e2f8eca09d",
   "metadata": {
    "scrolled": true
   },
   "outputs": [],
   "source": [
    "%%bash\n",
    "mmseqs easy-cluster sarg_ref_clean.fasta sarg_ref TMP \\\n",
    "    --cov-mode 0 -c 0.995 --min-seq-id 0.995 -s 7.5 --cluster-reassign\n",
    "mmseqs easy-cluster sarg_ext_clean.fasta sarg_ext TMP \\\n",
    "    --cov-mode 0 -c 0.95 --min-seq-id 0.95 -s 7.5 --cluster-reassign\n",
    "rm -rf TMP"
   ]
  },
  {
   "cell_type": "code",
   "execution_count": null,
   "id": "bede5ce7-a804-40a9-b36a-64f48b0477ba",
   "metadata": {},
   "outputs": [],
   "source": [
    "c = pd.concat([\n",
    "    pd.read_table('sarg_ref_cluster.tsv', header=None),\n",
    "    pd.read_table('sarg_ext_cluster.tsv', header=None)\n",
    "])\n",
    "c['left'] = c[0].str.split('|').str.get(-2)\n",
    "c['right'] = c[1].str.split('|').str.get(-2)\n",
    "\n",
    "c['id'] = c.left == c.right\n",
    "c[0] = c[0].str.split('|').str.get(-1)\n",
    "c[1] = c[1].str.split('|').str.get(-1)\n",
    "\n",
    "print(c[c.id==False].groupby(['left',  'right'], as_index=False).size().tail(60))"
   ]
  },
  {
   "cell_type": "code",
   "execution_count": null,
   "id": "ab4f51ae-1ebb-4d4f-8ed9-ba104bb534f4",
   "metadata": {},
   "outputs": [],
   "source": [
    "%%bash\n",
    "cat sarg_ref_rep_seq.fasta sarg_ext_rep_seq.fasta | seqkit sort -s -> sarg_cluster.fasta "
   ]
  },
  {
   "cell_type": "code",
   "execution_count": null,
   "id": "af11754c-9267-4006-93ca-27f4bb21918a",
   "metadata": {},
   "outputs": [],
   "source": []
  },
  {
   "cell_type": "code",
   "execution_count": null,
   "id": "296d71e0-0524-4d6b-8bc1-61aa002b5c4c",
   "metadata": {},
   "outputs": [],
   "source": []
  },
  {
   "cell_type": "code",
   "execution_count": null,
   "id": "2746d394-020f-464e-9b96-76e226139fab",
   "metadata": {},
   "outputs": [],
   "source": []
  },
  {
   "cell_type": "code",
   "execution_count": null,
   "id": "93bc49b6-c0d4-474b-bc6d-b3774661ca28",
   "metadata": {},
   "outputs": [],
   "source": []
  },
  {
   "cell_type": "code",
   "execution_count": null,
   "id": "cf92ce52-269f-4030-b0e3-ec13000cb602",
   "metadata": {},
   "outputs": [],
   "source": []
  },
  {
   "cell_type": "code",
   "execution_count": null,
   "id": "005bffa2-f67e-4499-bd5a-32a864defe70",
   "metadata": {},
   "outputs": [],
   "source": [
    "a = []\n",
    "with open('sarg_cluster.fasta') as handle:\n",
    "    for record in SeqIO.parse(handle, 'fasta'):\n",
    "        header = record.description.split(' ',1)[-1].split('MULTISPECIES: ')[-1].split(' [')[0]\n",
    "        a.append(record.id.split('|', 3)[1:3] + [header])\n",
    "pd.DataFrame(a).groupby([0,1]).size().to_csv('sarg.txt', sep='\\t', header=None)"
   ]
  },
  {
   "cell_type": "code",
   "execution_count": null,
   "id": "fbb51d37-64c1-47a3-abd3-5653c17e2043",
   "metadata": {},
   "outputs": [],
   "source": []
  },
  {
   "cell_type": "code",
   "execution_count": null,
   "id": "04ebfd6d-4384-454f-87c4-83c3e2e8cf5c",
   "metadata": {},
   "outputs": [],
   "source": []
  },
  {
   "cell_type": "code",
   "execution_count": null,
   "id": "3b1ceabe-04bf-40d1-84e6-c7e09f8ad0af",
   "metadata": {},
   "outputs": [],
   "source": []
  },
  {
   "cell_type": "code",
   "execution_count": null,
   "id": "abd934f3-7675-494a-a1b0-101427672be6",
   "metadata": {},
   "outputs": [],
   "source": []
  },
  {
   "cell_type": "code",
   "execution_count": null,
   "id": "97c2086f-15ff-4265-9988-5b8babd1db6f",
   "metadata": {},
   "outputs": [],
   "source": []
  },
  {
   "cell_type": "code",
   "execution_count": null,
   "id": "64e9484f-50c6-4bf3-bb53-7e168534e58b",
   "metadata": {},
   "outputs": [],
   "source": [
    "zz = pd.DataFrame(a)\n",
    "mg = zz[zz[0]=='multidrug'][[1,2]].drop_duplicates()\n",
    "MFS = set(mg[mg[2].str.contains('MFS')][1]) | {'abcA', 'jefA', 'stp'}\n",
    "ABC = set(mg[mg[2].str.contains('ABC')][1])\n",
    "SMR = set(mg[mg[2].str.contains('SMR')][1])\n",
    "MATE = set(mg[mg[2].str.contains('MATE')][1])\n",
    "\n",
    "mgg = mg[~mg[1].isin(MFS|ABC|SMR|MATE)]\n",
    "# MFP = set(mgg[mgg[2].str.contains('periplasmic')][1]) | {'axyA', 'mdtA', 'mdtE', 'mdtN', 'adeT'}\n",
    "# RND = set(mgg[mgg[2].str.contains('permease')][1]) | {'mdtO', 'mmpL5', 'mmpL7'}\n",
    "# OMP = set(mgg[mgg[2].str.contains('outer')][1]) | {'pseA'}\n",
    "RND = set(mgg[1])"
   ]
  },
  {
   "cell_type": "code",
   "execution_count": null,
   "id": "927515f9-9319-4458-b844-d26e5729112d",
   "metadata": {},
   "outputs": [],
   "source": [
    "records = []\n",
    "with open('sarg_cluster.fasta') as handle:\n",
    "    for record in SeqIO.parse(handle, 'fasta'):\n",
    "        id = record.id.split('|')\n",
    "        if id[2] in RND:\n",
    "            id[1] = 'multidrug@RND'\n",
    "        elif id[2] in MFS:\n",
    "            id[1] = 'multidrug@MFS'\n",
    "        elif id[2] in ABC:\n",
    "            id[1] = 'multidrug@ABC'\n",
    "        elif id[2] in SMR:\n",
    "            id[1] = 'multidrug@SMR'\n",
    "        elif id[2] in MATE:\n",
    "            id[1] = 'multidrug@MATE'\n",
    "        else:\n",
    "            id = id\n",
    "        record.id = '|'.join(id)\n",
    "        record.description = record.description.split(' ', 1)[-1]\n",
    "        records.append(record)\n",
    "\n",
    "with open('sarg.fasta', 'w') as output_handle:\n",
    "    SeqIO.write(records, output_handle, 'fasta')"
   ]
  },
  {
   "cell_type": "code",
   "execution_count": null,
   "id": "505a95ea-64c5-4098-ad01-478ef4c6b62e",
   "metadata": {},
   "outputs": [],
   "source": []
  },
  {
   "cell_type": "code",
   "execution_count": null,
   "id": "ec2521e7-eee4-401f-bd27-ae3f2366fc79",
   "metadata": {},
   "outputs": [],
   "source": []
  },
  {
   "cell_type": "code",
   "execution_count": null,
   "id": "04fb9cca-9647-4ed2-b23e-c92e80a4d6d4",
   "metadata": {},
   "outputs": [],
   "source": []
  },
  {
   "cell_type": "code",
   "execution_count": null,
   "id": "f46eac77-c5bb-409a-96f3-59225361c084",
   "metadata": {},
   "outputs": [],
   "source": []
  },
  {
   "cell_type": "code",
   "execution_count": null,
   "id": "f1399419-38b9-4647-984d-bb787d67c373",
   "metadata": {},
   "outputs": [],
   "source": []
  }
 ],
 "metadata": {
  "kernelspec": {
   "display_name": "Python 3 (ipykernel)",
   "language": "python",
   "name": "python3"
  },
  "language_info": {
   "codemirror_mode": {
    "name": "ipython",
    "version": 3
   },
   "file_extension": ".py",
   "mimetype": "text/x-python",
   "name": "python",
   "nbconvert_exporter": "python",
   "pygments_lexer": "ipython3",
   "version": "3.11.0"
  }
 },
 "nbformat": 4,
 "nbformat_minor": 5
}
